{
  "nbformat": 4,
  "nbformat_minor": 0,
  "metadata": {
    "accelerator": "GPU",
    "colab": {
      "name": "fastextmercari_cnn_lstm222.ipynb",
      "provenance": [],
      "collapsed_sections": [],
      "machine_shape": "hm"
    },
    "kernelspec": {
      "display_name": "Python 3",
      "name": "python3"
    },
    "widgets": {
      "application/vnd.jupyter.widget-state+json": {
        "214a59e471de45b9a9d6a07c8d83aeb2": {
          "model_module": "@jupyter-widgets/controls",
          "model_name": "HBoxModel",
          "state": {
            "_view_name": "HBoxView",
            "_dom_classes": [],
            "_model_name": "HBoxModel",
            "_view_module": "@jupyter-widgets/controls",
            "_model_module_version": "1.5.0",
            "_view_count": null,
            "_view_module_version": "1.5.0",
            "box_style": "",
            "layout": "IPY_MODEL_885de545c57a43b29fee0bbd8870f2e4",
            "_model_module": "@jupyter-widgets/controls",
            "children": [
              "IPY_MODEL_f1da95a094b843898e929ad343b638c3",
              "IPY_MODEL_52f658cc00aa4cd5a256f0f2c2a471ad"
            ]
          }
        },
        "885de545c57a43b29fee0bbd8870f2e4": {
          "model_module": "@jupyter-widgets/base",
          "model_name": "LayoutModel",
          "state": {
            "_view_name": "LayoutView",
            "grid_template_rows": null,
            "right": null,
            "justify_content": null,
            "_view_module": "@jupyter-widgets/base",
            "overflow": null,
            "_model_module_version": "1.2.0",
            "_view_count": null,
            "flex_flow": null,
            "width": null,
            "min_width": null,
            "border": null,
            "align_items": null,
            "bottom": null,
            "_model_module": "@jupyter-widgets/base",
            "top": null,
            "grid_column": null,
            "overflow_y": null,
            "overflow_x": null,
            "grid_auto_flow": null,
            "grid_area": null,
            "grid_template_columns": null,
            "flex": null,
            "_model_name": "LayoutModel",
            "justify_items": null,
            "grid_row": null,
            "max_height": null,
            "align_content": null,
            "visibility": null,
            "align_self": null,
            "height": null,
            "min_height": null,
            "padding": null,
            "grid_auto_rows": null,
            "grid_gap": null,
            "max_width": null,
            "order": null,
            "_view_module_version": "1.2.0",
            "grid_template_areas": null,
            "object_position": null,
            "object_fit": null,
            "grid_auto_columns": null,
            "margin": null,
            "display": null,
            "left": null
          }
        },
        "f1da95a094b843898e929ad343b638c3": {
          "model_module": "@jupyter-widgets/controls",
          "model_name": "FloatProgressModel",
          "state": {
            "_view_name": "ProgressView",
            "style": "IPY_MODEL_b4b0c70e0a7e4d6db40c8fa6deea0524",
            "_dom_classes": [],
            "description": "100%",
            "_model_name": "FloatProgressModel",
            "bar_style": "success",
            "max": 1481661,
            "_view_module": "@jupyter-widgets/controls",
            "_model_module_version": "1.5.0",
            "value": 1481661,
            "_view_count": null,
            "_view_module_version": "1.5.0",
            "orientation": "horizontal",
            "min": 0,
            "description_tooltip": null,
            "_model_module": "@jupyter-widgets/controls",
            "layout": "IPY_MODEL_0db305fa87fd43a8874edfffa9751c0d"
          }
        },
        "52f658cc00aa4cd5a256f0f2c2a471ad": {
          "model_module": "@jupyter-widgets/controls",
          "model_name": "HTMLModel",
          "state": {
            "_view_name": "HTMLView",
            "style": "IPY_MODEL_a73bde3649294ff295f10180f63ad7c3",
            "_dom_classes": [],
            "description": "",
            "_model_name": "HTMLModel",
            "placeholder": "​",
            "_view_module": "@jupyter-widgets/controls",
            "_model_module_version": "1.5.0",
            "value": " 1481661/1481661 [05:10&lt;00:00, 4770.61it/s]",
            "_view_count": null,
            "_view_module_version": "1.5.0",
            "description_tooltip": null,
            "_model_module": "@jupyter-widgets/controls",
            "layout": "IPY_MODEL_a7d61ecd255c457ba2a969ef00025cce"
          }
        },
        "b4b0c70e0a7e4d6db40c8fa6deea0524": {
          "model_module": "@jupyter-widgets/controls",
          "model_name": "ProgressStyleModel",
          "state": {
            "_view_name": "StyleView",
            "_model_name": "ProgressStyleModel",
            "description_width": "initial",
            "_view_module": "@jupyter-widgets/base",
            "_model_module_version": "1.5.0",
            "_view_count": null,
            "_view_module_version": "1.2.0",
            "bar_color": null,
            "_model_module": "@jupyter-widgets/controls"
          }
        },
        "0db305fa87fd43a8874edfffa9751c0d": {
          "model_module": "@jupyter-widgets/base",
          "model_name": "LayoutModel",
          "state": {
            "_view_name": "LayoutView",
            "grid_template_rows": null,
            "right": null,
            "justify_content": null,
            "_view_module": "@jupyter-widgets/base",
            "overflow": null,
            "_model_module_version": "1.2.0",
            "_view_count": null,
            "flex_flow": null,
            "width": null,
            "min_width": null,
            "border": null,
            "align_items": null,
            "bottom": null,
            "_model_module": "@jupyter-widgets/base",
            "top": null,
            "grid_column": null,
            "overflow_y": null,
            "overflow_x": null,
            "grid_auto_flow": null,
            "grid_area": null,
            "grid_template_columns": null,
            "flex": null,
            "_model_name": "LayoutModel",
            "justify_items": null,
            "grid_row": null,
            "max_height": null,
            "align_content": null,
            "visibility": null,
            "align_self": null,
            "height": null,
            "min_height": null,
            "padding": null,
            "grid_auto_rows": null,
            "grid_gap": null,
            "max_width": null,
            "order": null,
            "_view_module_version": "1.2.0",
            "grid_template_areas": null,
            "object_position": null,
            "object_fit": null,
            "grid_auto_columns": null,
            "margin": null,
            "display": null,
            "left": null
          }
        },
        "a73bde3649294ff295f10180f63ad7c3": {
          "model_module": "@jupyter-widgets/controls",
          "model_name": "DescriptionStyleModel",
          "state": {
            "_view_name": "StyleView",
            "_model_name": "DescriptionStyleModel",
            "description_width": "",
            "_view_module": "@jupyter-widgets/base",
            "_model_module_version": "1.5.0",
            "_view_count": null,
            "_view_module_version": "1.2.0",
            "_model_module": "@jupyter-widgets/controls"
          }
        },
        "a7d61ecd255c457ba2a969ef00025cce": {
          "model_module": "@jupyter-widgets/base",
          "model_name": "LayoutModel",
          "state": {
            "_view_name": "LayoutView",
            "grid_template_rows": null,
            "right": null,
            "justify_content": null,
            "_view_module": "@jupyter-widgets/base",
            "overflow": null,
            "_model_module_version": "1.2.0",
            "_view_count": null,
            "flex_flow": null,
            "width": null,
            "min_width": null,
            "border": null,
            "align_items": null,
            "bottom": null,
            "_model_module": "@jupyter-widgets/base",
            "top": null,
            "grid_column": null,
            "overflow_y": null,
            "overflow_x": null,
            "grid_auto_flow": null,
            "grid_area": null,
            "grid_template_columns": null,
            "flex": null,
            "_model_name": "LayoutModel",
            "justify_items": null,
            "grid_row": null,
            "max_height": null,
            "align_content": null,
            "visibility": null,
            "align_self": null,
            "height": null,
            "min_height": null,
            "padding": null,
            "grid_auto_rows": null,
            "grid_gap": null,
            "max_width": null,
            "order": null,
            "_view_module_version": "1.2.0",
            "grid_template_areas": null,
            "object_position": null,
            "object_fit": null,
            "grid_auto_columns": null,
            "margin": null,
            "display": null,
            "left": null
          }
        },
        "69576ca728df4edbaf651cc5eed92cf1": {
          "model_module": "@jupyter-widgets/controls",
          "model_name": "HBoxModel",
          "state": {
            "_view_name": "HBoxView",
            "_dom_classes": [],
            "_model_name": "HBoxModel",
            "_view_module": "@jupyter-widgets/controls",
            "_model_module_version": "1.5.0",
            "_view_count": null,
            "_view_module_version": "1.5.0",
            "box_style": "",
            "layout": "IPY_MODEL_283d719b2bff41f28eb1cc1f924e16ba",
            "_model_module": "@jupyter-widgets/controls",
            "children": [
              "IPY_MODEL_621360fbd6394c31adcf23700cbfab82",
              "IPY_MODEL_e672d82b48eb477eae2674542da8d233"
            ]
          }
        },
        "283d719b2bff41f28eb1cc1f924e16ba": {
          "model_module": "@jupyter-widgets/base",
          "model_name": "LayoutModel",
          "state": {
            "_view_name": "LayoutView",
            "grid_template_rows": null,
            "right": null,
            "justify_content": null,
            "_view_module": "@jupyter-widgets/base",
            "overflow": null,
            "_model_module_version": "1.2.0",
            "_view_count": null,
            "flex_flow": null,
            "width": null,
            "min_width": null,
            "border": null,
            "align_items": null,
            "bottom": null,
            "_model_module": "@jupyter-widgets/base",
            "top": null,
            "grid_column": null,
            "overflow_y": null,
            "overflow_x": null,
            "grid_auto_flow": null,
            "grid_area": null,
            "grid_template_columns": null,
            "flex": null,
            "_model_name": "LayoutModel",
            "justify_items": null,
            "grid_row": null,
            "max_height": null,
            "align_content": null,
            "visibility": null,
            "align_self": null,
            "height": null,
            "min_height": null,
            "padding": null,
            "grid_auto_rows": null,
            "grid_gap": null,
            "max_width": null,
            "order": null,
            "_view_module_version": "1.2.0",
            "grid_template_areas": null,
            "object_position": null,
            "object_fit": null,
            "grid_auto_columns": null,
            "margin": null,
            "display": null,
            "left": null
          }
        },
        "621360fbd6394c31adcf23700cbfab82": {
          "model_module": "@jupyter-widgets/controls",
          "model_name": "FloatProgressModel",
          "state": {
            "_view_name": "ProgressView",
            "style": "IPY_MODEL_77ab35587a324fa5ac7a105e5c01a802",
            "_dom_classes": [],
            "description": "100%",
            "_model_name": "FloatProgressModel",
            "bar_style": "success",
            "max": 3460725,
            "_view_module": "@jupyter-widgets/controls",
            "_model_module_version": "1.5.0",
            "value": 3460725,
            "_view_count": null,
            "_view_module_version": "1.5.0",
            "orientation": "horizontal",
            "min": 0,
            "description_tooltip": null,
            "_model_module": "@jupyter-widgets/controls",
            "layout": "IPY_MODEL_11c9ab2435694756b2ae4aeb7ab8d108"
          }
        },
        "e672d82b48eb477eae2674542da8d233": {
          "model_module": "@jupyter-widgets/controls",
          "model_name": "HTMLModel",
          "state": {
            "_view_name": "HTMLView",
            "style": "IPY_MODEL_60145699fe9447598529bf47ac67dd42",
            "_dom_classes": [],
            "description": "",
            "_model_name": "HTMLModel",
            "placeholder": "​",
            "_view_module": "@jupyter-widgets/controls",
            "_model_module_version": "1.5.0",
            "value": " 3460725/3460725 [03:36&lt;00:00, 15963.43it/s]",
            "_view_count": null,
            "_view_module_version": "1.5.0",
            "description_tooltip": null,
            "_model_module": "@jupyter-widgets/controls",
            "layout": "IPY_MODEL_9c509ef0d44e4664b06adf0ec2a51950"
          }
        },
        "77ab35587a324fa5ac7a105e5c01a802": {
          "model_module": "@jupyter-widgets/controls",
          "model_name": "ProgressStyleModel",
          "state": {
            "_view_name": "StyleView",
            "_model_name": "ProgressStyleModel",
            "description_width": "initial",
            "_view_module": "@jupyter-widgets/base",
            "_model_module_version": "1.5.0",
            "_view_count": null,
            "_view_module_version": "1.2.0",
            "bar_color": null,
            "_model_module": "@jupyter-widgets/controls"
          }
        },
        "11c9ab2435694756b2ae4aeb7ab8d108": {
          "model_module": "@jupyter-widgets/base",
          "model_name": "LayoutModel",
          "state": {
            "_view_name": "LayoutView",
            "grid_template_rows": null,
            "right": null,
            "justify_content": null,
            "_view_module": "@jupyter-widgets/base",
            "overflow": null,
            "_model_module_version": "1.2.0",
            "_view_count": null,
            "flex_flow": null,
            "width": null,
            "min_width": null,
            "border": null,
            "align_items": null,
            "bottom": null,
            "_model_module": "@jupyter-widgets/base",
            "top": null,
            "grid_column": null,
            "overflow_y": null,
            "overflow_x": null,
            "grid_auto_flow": null,
            "grid_area": null,
            "grid_template_columns": null,
            "flex": null,
            "_model_name": "LayoutModel",
            "justify_items": null,
            "grid_row": null,
            "max_height": null,
            "align_content": null,
            "visibility": null,
            "align_self": null,
            "height": null,
            "min_height": null,
            "padding": null,
            "grid_auto_rows": null,
            "grid_gap": null,
            "max_width": null,
            "order": null,
            "_view_module_version": "1.2.0",
            "grid_template_areas": null,
            "object_position": null,
            "object_fit": null,
            "grid_auto_columns": null,
            "margin": null,
            "display": null,
            "left": null
          }
        },
        "60145699fe9447598529bf47ac67dd42": {
          "model_module": "@jupyter-widgets/controls",
          "model_name": "DescriptionStyleModel",
          "state": {
            "_view_name": "StyleView",
            "_model_name": "DescriptionStyleModel",
            "description_width": "",
            "_view_module": "@jupyter-widgets/base",
            "_model_module_version": "1.5.0",
            "_view_count": null,
            "_view_module_version": "1.2.0",
            "_model_module": "@jupyter-widgets/controls"
          }
        },
        "9c509ef0d44e4664b06adf0ec2a51950": {
          "model_module": "@jupyter-widgets/base",
          "model_name": "LayoutModel",
          "state": {
            "_view_name": "LayoutView",
            "grid_template_rows": null,
            "right": null,
            "justify_content": null,
            "_view_module": "@jupyter-widgets/base",
            "overflow": null,
            "_model_module_version": "1.2.0",
            "_view_count": null,
            "flex_flow": null,
            "width": null,
            "min_width": null,
            "border": null,
            "align_items": null,
            "bottom": null,
            "_model_module": "@jupyter-widgets/base",
            "top": null,
            "grid_column": null,
            "overflow_y": null,
            "overflow_x": null,
            "grid_auto_flow": null,
            "grid_area": null,
            "grid_template_columns": null,
            "flex": null,
            "_model_name": "LayoutModel",
            "justify_items": null,
            "grid_row": null,
            "max_height": null,
            "align_content": null,
            "visibility": null,
            "align_self": null,
            "height": null,
            "min_height": null,
            "padding": null,
            "grid_auto_rows": null,
            "grid_gap": null,
            "max_width": null,
            "order": null,
            "_view_module_version": "1.2.0",
            "grid_template_areas": null,
            "object_position": null,
            "object_fit": null,
            "grid_auto_columns": null,
            "margin": null,
            "display": null,
            "left": null
          }
        }
      }
    }
  },
  "cells": [
    {
      "cell_type": "code",
      "metadata": {
        "id": "UzLNA9LrNyt0"
      },
      "source": [
        "%matplotlib inline\r\n",
        "import warnings\r\n",
        "warnings.filterwarnings(\"ignore\")\r\n",
        "\r\n",
        "import sqlite3\r\n",
        "import pandas as pd\r\n",
        "import numpy as np\r\n",
        "import nltk\r\n",
        "\r\n",
        "import string\r\n",
        "import matplotlib.pyplot as plt\r\n",
        "import seaborn as sns\r\n",
        "from sklearn.feature_extraction.text import TfidfTransformer\r\n",
        "from sklearn.feature_extraction.text import TfidfVectorizer\r\n",
        "\r\n",
        "from sklearn.feature_extraction.text import CountVectorizer\r\n",
        "from sklearn.metrics import confusion_matrix\r\n",
        "from sklearn import metrics\r\n",
        "from sklearn.metrics import roc_curve, auc\r\n",
        "from nltk.stem.porter import PorterStemmer\r\n",
        "\r\n",
        "import re\r\n",
        "# Tutorial about Python regular expressions: https://pymotw.com/2/re/\r\n",
        "import string\r\n",
        "from nltk.corpus import stopwords\r\n",
        "from nltk.stem import PorterStemmer\r\n",
        "from nltk.stem.wordnet import WordNetLemmatizer\r\n",
        "\r\n",
        "from gensim.models import Word2Vec\r\n",
        "from gensim.models import KeyedVectors\r\n",
        "import pickle\r\n",
        "\r\n",
        "from tqdm import tqdm\r\n",
        "from tqdm import tqdm_notebook\r\n",
        "import os\r\n",
        "%matplotlib inline"
      ],
      "execution_count": 1,
      "outputs": []
    },
    {
      "cell_type": "code",
      "metadata": {
        "id": "F0252KHrNzJy"
      },
      "source": [
        "\r\n",
        "import re\r\n",
        "from gensim import corpora, models\r\n",
        "import gensim\r\n",
        "from gensim.utils import simple_preprocess\r\n",
        "from gensim.parsing.preprocessing import STOPWORDS\r\n",
        "from nltk.stem import WordNetLemmatizer, SnowballStemmer,PorterStemmer\r\n",
        "from nltk.stem.porter import *\r\n",
        "import nltk\r\n",
        "from nltk.sentiment.vader import SentimentIntensityAnalyzer\r\n",
        "from sklearn.feature_extraction.text import CountVectorizer,TfidfVectorizer\r\n",
        "from sklearn.preprocessing import LabelBinarizer\r\n",
        "\r\n",
        "# ML Libs...\r\n",
        "from sklearn.model_selection import train_test_split\r\n",
        "from sklearn.preprocessing import StandardScaler, MinMaxScaler"
      ],
      "execution_count": 2,
      "outputs": []
    },
    {
      "cell_type": "code",
      "metadata": {
        "id": "mGvZSMeb6Zua"
      },
      "source": [
        "import warnings\r\n",
        "warnings.filterwarnings(\"ignore\")\r\n",
        "import pandas as pd\r\n",
        "import numpy as np\r\n",
        "from keras.layers import Input, Embedding, LSTM, Dropout, BatchNormalization, Dense, concatenate, Flatten, Conv1D, MaxPool1D, LeakyReLU, ELU, SpatialDropout1D, MaxPooling1D, GlobalAveragePooling1D, GlobalMaxPooling1D\r\n",
        "from keras.preprocessing.text import Tokenizer, one_hot\r\n",
        "from keras.preprocessing.sequence import pad_sequences\r\n",
        "from keras.models import Model, load_model\r\n",
        "from keras import regularizers\r\n",
        "from keras.optimizers import *\r\n",
        "from keras.callbacks import ModelCheckpoint, EarlyStopping, TensorBoard, ReduceLROnPlateau\r\n",
        "from sklearn.feature_extraction.text import TfidfVectorizer, CountVectorizer\r\n",
        "from sklearn.model_selection import train_test_split\r\n",
        "from sklearn.metrics import roc_auc_score\r\n",
        "import tensorflow as tf\r\n",
        "import matplotlib.pyplot as plt   \r\n",
        "%matplotlib inline\r\n",
        "import re\r\n",
        "from tqdm import tqdm\r\n",
        "from sklearn.preprocessing import LabelEncoder\r\n",
        "import seaborn as sns\r\n",
        "import pickle"
      ],
      "execution_count": 3,
      "outputs": []
    },
    {
      "cell_type": "code",
      "metadata": {
        "id": "Ya1Vw-1oBfRV"
      },
      "source": [
        "import os\r\n",
        "\r\n",
        "from sklearn.feature_extraction.text import TfidfVectorizer\r\n",
        "from sklearn.feature_extraction.text import CountVectorizer\r\n",
        "\r\n",
        "from sklearn import preprocessing\r\n",
        "from sklearn.metrics import mean_squared_log_error\r\n",
        "from sklearn.model_selection import GridSearchCV\r\n",
        "from scipy.sparse import csr_matrix, hstack\r\n",
        "from sklearn.preprocessing import StandardScaler\r\n",
        "from sklearn.model_selection import train_test_split\r\n",
        "from sklearn.ensemble import GradientBoostingRegressor\r\n",
        "from sklearn.ensemble import StackingRegressor\r\n",
        "\r\n",
        "import xgboost as xgb\r\n",
        "from xgboost import XGBRegressor\r\n",
        "from sklearn.linear_model import Ridge\r\n",
        "from lightgbm import LGBMRegressor\r\n",
        "import joblib\r\n",
        "\r\n",
        "import keras\r\n",
        "import tensorflow as tf\r\n",
        "from keras import optimizers, callbacks\r\n",
        "from keras.callbacks import ModelCheckpoint, EarlyStopping\r\n",
        "from keras.models import Model\r\n",
        "from keras.layers import Input, Dropout, Dense"
      ],
      "execution_count": 4,
      "outputs": []
    },
    {
      "cell_type": "markdown",
      "metadata": {
        "id": "YRHQiwX2wZFR"
      },
      "source": [
        "#1.Loading **Data**"
      ]
    },
    {
      "cell_type": "code",
      "metadata": {
        "colab": {
          "base_uri": "https://localhost:8080/"
        },
        "id": "P7n_mSjydP_H",
        "outputId": "288c2425-4efc-47ec-9b39-e033628e7f32"
      },
      "source": [
        "from google.colab import drive\n",
        "drive.mount('/content/drive')"
      ],
      "execution_count": 5,
      "outputs": [
        {
          "output_type": "stream",
          "text": [
            "Mounted at /content/drive\n"
          ],
          "name": "stdout"
        }
      ]
    },
    {
      "cell_type": "code",
      "metadata": {
        "colab": {
          "base_uri": "https://localhost:8080/"
        },
        "id": "eXif9nRbTkkK",
        "outputId": "b6c403f6-e5c5-4641-eb28-25dfd9e52f82"
      },
      "source": [
        "!unzip '/content/drive/My Drive/mercari/test_stg2.tsv.zip'\r\n"
      ],
      "execution_count": 6,
      "outputs": [
        {
          "output_type": "stream",
          "text": [
            "Archive:  /content/drive/My Drive/mercari/test_stg2.tsv.zip\n",
            "  inflating: test_stg2.tsv           \n"
          ],
          "name": "stdout"
        }
      ]
    },
    {
      "cell_type": "code",
      "metadata": {
        "id": "pN54mGZdNzZJ"
      },
      "source": [
        "train_data=pd.read_csv('/content/drive/My Drive/mercari/train.tsv',sep='\\t')\r\n",
        "test_data = pd.read_csv('test_stg2.tsv', sep='\\t')"
      ],
      "execution_count": 7,
      "outputs": []
    },
    {
      "cell_type": "code",
      "metadata": {
        "colab": {
          "base_uri": "https://localhost:8080/"
        },
        "id": "XA5exyGyOhcB",
        "outputId": "532bd91b-4559-459f-e165-a708389049cc"
      },
      "source": [
        "print(train_data.shape)\r\n",
        "print(test_data.shape)"
      ],
      "execution_count": 8,
      "outputs": [
        {
          "output_type": "stream",
          "text": [
            "(1482535, 8)\n",
            "(3460725, 7)\n"
          ],
          "name": "stdout"
        }
      ]
    },
    {
      "cell_type": "code",
      "metadata": {
        "id": "iTdU2IFtNzda"
      },
      "source": [
        "train_data=train_data[train_data['price']>0]"
      ],
      "execution_count": 9,
      "outputs": []
    },
    {
      "cell_type": "code",
      "metadata": {
        "id": "cFwZeEGXNzgu"
      },
      "source": [
        "train_data[\"log_price\"] = np.log(train_data[\"price\"] + 1)\r\n",
        "del train_data['price']"
      ],
      "execution_count": 10,
      "outputs": []
    },
    {
      "cell_type": "code",
      "metadata": {
        "colab": {
          "base_uri": "https://localhost:8080/",
          "height": 97
        },
        "id": "0bml0X_XNzj0",
        "outputId": "55a9ce3b-4b90-40b3-e593-53e043ba2557"
      },
      "source": [
        "#https://stackoverflow.com/questions/14745022/how-to-split-a-column-into-two-columns\r\n",
        "# train_data.loc[:,('sub_cat1','sub_cat2','sub_cat3','sub_cat4','sub_cat5')]= train_data['category_name'].str.split('/', 0, expand=True)\r\n",
        "train_data[['sub_cat1','sub_cat2','sub_cat3','sub_cat4','sub_cat5']] = train_data['category_name'].str.split('/', 0, expand=True)\r\n",
        "del train_data['category_name']\r\n",
        "train_data.head(1)"
      ],
      "execution_count": 11,
      "outputs": [
        {
          "output_type": "execute_result",
          "data": {
            "text/html": [
              "<div>\n",
              "<style scoped>\n",
              "    .dataframe tbody tr th:only-of-type {\n",
              "        vertical-align: middle;\n",
              "    }\n",
              "\n",
              "    .dataframe tbody tr th {\n",
              "        vertical-align: top;\n",
              "    }\n",
              "\n",
              "    .dataframe thead th {\n",
              "        text-align: right;\n",
              "    }\n",
              "</style>\n",
              "<table border=\"1\" class=\"dataframe\">\n",
              "  <thead>\n",
              "    <tr style=\"text-align: right;\">\n",
              "      <th></th>\n",
              "      <th>train_id</th>\n",
              "      <th>name</th>\n",
              "      <th>item_condition_id</th>\n",
              "      <th>brand_name</th>\n",
              "      <th>shipping</th>\n",
              "      <th>item_description</th>\n",
              "      <th>log_price</th>\n",
              "      <th>sub_cat1</th>\n",
              "      <th>sub_cat2</th>\n",
              "      <th>sub_cat3</th>\n",
              "      <th>sub_cat4</th>\n",
              "      <th>sub_cat5</th>\n",
              "    </tr>\n",
              "  </thead>\n",
              "  <tbody>\n",
              "    <tr>\n",
              "      <th>0</th>\n",
              "      <td>0</td>\n",
              "      <td>MLB Cincinnati Reds T Shirt Size XL</td>\n",
              "      <td>3</td>\n",
              "      <td>NaN</td>\n",
              "      <td>1</td>\n",
              "      <td>No description yet</td>\n",
              "      <td>2.397895</td>\n",
              "      <td>Men</td>\n",
              "      <td>Tops</td>\n",
              "      <td>T-shirts</td>\n",
              "      <td>None</td>\n",
              "      <td>None</td>\n",
              "    </tr>\n",
              "  </tbody>\n",
              "</table>\n",
              "</div>"
            ],
            "text/plain": [
              "   train_id                                 name  ...  sub_cat4 sub_cat5\n",
              "0         0  MLB Cincinnati Reds T Shirt Size XL  ...      None     None\n",
              "\n",
              "[1 rows x 12 columns]"
            ]
          },
          "metadata": {
            "tags": []
          },
          "execution_count": 11
        }
      ]
    },
    {
      "cell_type": "code",
      "metadata": {
        "colab": {
          "base_uri": "https://localhost:8080/",
          "height": 80
        },
        "id": "0kjTMEsDNznx",
        "outputId": "7a71d574-94f5-4c33-8e18-18a1765b53d8"
      },
      "source": [
        "test_data[['sub_cat1','sub_cat2','sub_cat3','sub_cat4','sub_cat5']] = test_data['category_name'].str.split('/', 0, expand=True)\r\n",
        "del test_data['category_name']\r\n",
        "test_data.head(1)"
      ],
      "execution_count": 12,
      "outputs": [
        {
          "output_type": "execute_result",
          "data": {
            "text/html": [
              "<div>\n",
              "<style scoped>\n",
              "    .dataframe tbody tr th:only-of-type {\n",
              "        vertical-align: middle;\n",
              "    }\n",
              "\n",
              "    .dataframe tbody tr th {\n",
              "        vertical-align: top;\n",
              "    }\n",
              "\n",
              "    .dataframe thead th {\n",
              "        text-align: right;\n",
              "    }\n",
              "</style>\n",
              "<table border=\"1\" class=\"dataframe\">\n",
              "  <thead>\n",
              "    <tr style=\"text-align: right;\">\n",
              "      <th></th>\n",
              "      <th>test_id</th>\n",
              "      <th>name</th>\n",
              "      <th>item_condition_id</th>\n",
              "      <th>brand_name</th>\n",
              "      <th>shipping</th>\n",
              "      <th>item_description</th>\n",
              "      <th>sub_cat1</th>\n",
              "      <th>sub_cat2</th>\n",
              "      <th>sub_cat3</th>\n",
              "      <th>sub_cat4</th>\n",
              "      <th>sub_cat5</th>\n",
              "    </tr>\n",
              "  </thead>\n",
              "  <tbody>\n",
              "    <tr>\n",
              "      <th>0</th>\n",
              "      <td>0</td>\n",
              "      <td>Breast cancer \"I fight like a girl\" ring</td>\n",
              "      <td>1</td>\n",
              "      <td>NaN</td>\n",
              "      <td>1</td>\n",
              "      <td>Size 7</td>\n",
              "      <td>Women</td>\n",
              "      <td>Jewelry</td>\n",
              "      <td>Rings</td>\n",
              "      <td>None</td>\n",
              "      <td>None</td>\n",
              "    </tr>\n",
              "  </tbody>\n",
              "</table>\n",
              "</div>"
            ],
            "text/plain": [
              "   test_id                                      name  ...  sub_cat4 sub_cat5\n",
              "0        0  Breast cancer \"I fight like a girl\" ring  ...      None     None\n",
              "\n",
              "[1 rows x 11 columns]"
            ]
          },
          "metadata": {
            "tags": []
          },
          "execution_count": 12
        }
      ]
    },
    {
      "cell_type": "code",
      "metadata": {
        "id": "ItDv8_x5NzqW"
      },
      "source": [
        "# https://stackoverflow.com/questions/28538536/deleting-multiple-columns-based-on-column-names-in-pandas\r\n",
        "train_data.drop(['sub_cat4', 'sub_cat5'], axis=1, inplace=True)\r\n",
        "test_data.drop(['sub_cat4', 'sub_cat5'], axis=1, inplace=True)"
      ],
      "execution_count": 13,
      "outputs": []
    },
    {
      "cell_type": "code",
      "metadata": {
        "colab": {
          "base_uri": "https://localhost:8080/"
        },
        "id": "4hi7ehd1O1_-",
        "outputId": "1b6598f6-d667-43bc-fb90-1d2945d8f42c"
      },
      "source": [
        "print(train_data.columns)\r\n",
        "print(test_data.columns)"
      ],
      "execution_count": 14,
      "outputs": [
        {
          "output_type": "stream",
          "text": [
            "Index(['train_id', 'name', 'item_condition_id', 'brand_name', 'shipping',\n",
            "       'item_description', 'log_price', 'sub_cat1', 'sub_cat2', 'sub_cat3'],\n",
            "      dtype='object')\n",
            "Index(['test_id', 'name', 'item_condition_id', 'brand_name', 'shipping',\n",
            "       'item_description', 'sub_cat1', 'sub_cat2', 'sub_cat3'],\n",
            "      dtype='object')\n"
          ],
          "name": "stdout"
        }
      ]
    },
    {
      "cell_type": "code",
      "metadata": {
        "id": "LwkUu28jO2OL"
      },
      "source": [
        "train_data['item_description']=train_data['item_description'].fillna('none')\r\n",
        "train_data['brand_name']=train_data['brand_name'].fillna('unknown')\r\n",
        "train_data['sub_cat1']=train_data['sub_cat1'].fillna('none')\r\n",
        "train_data['sub_cat2']=train_data['sub_cat2'].fillna('none')\r\n",
        "train_data['sub_cat3']=train_data['sub_cat3'].fillna('none')\r\n",
        "\r\n",
        "test_data['item_description']=test_data['item_description'].fillna('none')\r\n",
        "test_data['brand_name']=test_data['brand_name'].fillna('unknown')\r\n",
        "test_data['sub_cat1']=test_data['sub_cat1'].fillna('none')\r\n",
        "test_data['sub_cat2']=test_data['sub_cat2'].fillna('none')\r\n",
        "test_data['sub_cat3']=test_data['sub_cat3'].fillna('none')"
      ],
      "execution_count": 15,
      "outputs": []
    },
    {
      "cell_type": "code",
      "metadata": {
        "colab": {
          "base_uri": "https://localhost:8080/"
        },
        "id": "iM6HY-tSO2RR",
        "outputId": "bbe873dc-24a2-4aa7-a0a7-ae5140a5189f"
      },
      "source": [
        "train_data.isnull().sum()"
      ],
      "execution_count": 16,
      "outputs": [
        {
          "output_type": "execute_result",
          "data": {
            "text/plain": [
              "train_id             0\n",
              "name                 0\n",
              "item_condition_id    0\n",
              "brand_name           0\n",
              "shipping             0\n",
              "item_description     0\n",
              "log_price            0\n",
              "sub_cat1             0\n",
              "sub_cat2             0\n",
              "sub_cat3             0\n",
              "dtype: int64"
            ]
          },
          "metadata": {
            "tags": []
          },
          "execution_count": 16
        }
      ]
    },
    {
      "cell_type": "code",
      "metadata": {
        "colab": {
          "base_uri": "https://localhost:8080/"
        },
        "id": "vSrec91JO2Uz",
        "outputId": "5dfb1853-2d7d-4af5-e8d5-219273ce5036"
      },
      "source": [
        "test_data.isnull().sum()"
      ],
      "execution_count": 17,
      "outputs": [
        {
          "output_type": "execute_result",
          "data": {
            "text/plain": [
              "test_id              0\n",
              "name                 0\n",
              "item_condition_id    0\n",
              "brand_name           0\n",
              "shipping             0\n",
              "item_description     0\n",
              "sub_cat1             0\n",
              "sub_cat2             0\n",
              "sub_cat3             0\n",
              "dtype: int64"
            ]
          },
          "metadata": {
            "tags": []
          },
          "execution_count": 17
        }
      ]
    },
    {
      "cell_type": "code",
      "metadata": {
        "colab": {
          "base_uri": "https://localhost:8080/"
        },
        "id": "Fi-4UOBa7yAv",
        "outputId": "f31b8bf6-e4ba-4f71-add1-ffe6b0604018"
      },
      "source": [
        "import nltk\r\n",
        "nltk.download('stopwords')"
      ],
      "execution_count": 18,
      "outputs": [
        {
          "output_type": "stream",
          "text": [
            "[nltk_data] Downloading package stopwords to /root/nltk_data...\n",
            "[nltk_data]   Unzipping corpora/stopwords.zip.\n"
          ],
          "name": "stdout"
        },
        {
          "output_type": "execute_result",
          "data": {
            "text/plain": [
              "True"
            ]
          },
          "metadata": {
            "tags": []
          },
          "execution_count": 18
        }
      ]
    },
    {
      "cell_type": "code",
      "metadata": {
        "colab": {
          "base_uri": "https://localhost:8080/"
        },
        "id": "TxQhh2PYO2a8",
        "outputId": "ea3567f3-a000-4f07-fe75-8bd09010dd0d"
      },
      "source": [
        "import nltk\r\n",
        "from nltk.corpus import stopwords\r\n",
        "nltk.download('all') \r\n",
        "stopwords=set(stopwords.words('english'))"
      ],
      "execution_count": 19,
      "outputs": [
        {
          "output_type": "stream",
          "text": [
            "[nltk_data] Downloading collection 'all'\n",
            "[nltk_data]    | \n",
            "[nltk_data]    | Downloading package abc to /root/nltk_data...\n",
            "[nltk_data]    |   Unzipping corpora/abc.zip.\n",
            "[nltk_data]    | Downloading package alpino to /root/nltk_data...\n",
            "[nltk_data]    |   Unzipping corpora/alpino.zip.\n",
            "[nltk_data]    | Downloading package biocreative_ppi to\n",
            "[nltk_data]    |     /root/nltk_data...\n",
            "[nltk_data]    |   Unzipping corpora/biocreative_ppi.zip.\n",
            "[nltk_data]    | Downloading package brown to /root/nltk_data...\n",
            "[nltk_data]    |   Unzipping corpora/brown.zip.\n",
            "[nltk_data]    | Downloading package brown_tei to /root/nltk_data...\n",
            "[nltk_data]    |   Unzipping corpora/brown_tei.zip.\n",
            "[nltk_data]    | Downloading package cess_cat to /root/nltk_data...\n",
            "[nltk_data]    |   Unzipping corpora/cess_cat.zip.\n",
            "[nltk_data]    | Downloading package cess_esp to /root/nltk_data...\n",
            "[nltk_data]    |   Unzipping corpora/cess_esp.zip.\n",
            "[nltk_data]    | Downloading package chat80 to /root/nltk_data...\n",
            "[nltk_data]    |   Unzipping corpora/chat80.zip.\n",
            "[nltk_data]    | Downloading package city_database to\n",
            "[nltk_data]    |     /root/nltk_data...\n",
            "[nltk_data]    |   Unzipping corpora/city_database.zip.\n",
            "[nltk_data]    | Downloading package cmudict to /root/nltk_data...\n",
            "[nltk_data]    |   Unzipping corpora/cmudict.zip.\n",
            "[nltk_data]    | Downloading package comparative_sentences to\n",
            "[nltk_data]    |     /root/nltk_data...\n",
            "[nltk_data]    |   Unzipping corpora/comparative_sentences.zip.\n",
            "[nltk_data]    | Downloading package comtrans to /root/nltk_data...\n",
            "[nltk_data]    | Downloading package conll2000 to /root/nltk_data...\n",
            "[nltk_data]    |   Unzipping corpora/conll2000.zip.\n",
            "[nltk_data]    | Downloading package conll2002 to /root/nltk_data...\n",
            "[nltk_data]    |   Unzipping corpora/conll2002.zip.\n",
            "[nltk_data]    | Downloading package conll2007 to /root/nltk_data...\n",
            "[nltk_data]    | Downloading package crubadan to /root/nltk_data...\n",
            "[nltk_data]    |   Unzipping corpora/crubadan.zip.\n",
            "[nltk_data]    | Downloading package dependency_treebank to\n",
            "[nltk_data]    |     /root/nltk_data...\n",
            "[nltk_data]    |   Unzipping corpora/dependency_treebank.zip.\n",
            "[nltk_data]    | Downloading package dolch to /root/nltk_data...\n",
            "[nltk_data]    |   Unzipping corpora/dolch.zip.\n",
            "[nltk_data]    | Downloading package europarl_raw to\n",
            "[nltk_data]    |     /root/nltk_data...\n",
            "[nltk_data]    |   Unzipping corpora/europarl_raw.zip.\n",
            "[nltk_data]    | Downloading package floresta to /root/nltk_data...\n",
            "[nltk_data]    |   Unzipping corpora/floresta.zip.\n",
            "[nltk_data]    | Downloading package framenet_v15 to\n",
            "[nltk_data]    |     /root/nltk_data...\n",
            "[nltk_data]    |   Unzipping corpora/framenet_v15.zip.\n",
            "[nltk_data]    | Downloading package framenet_v17 to\n",
            "[nltk_data]    |     /root/nltk_data...\n",
            "[nltk_data]    |   Unzipping corpora/framenet_v17.zip.\n",
            "[nltk_data]    | Downloading package gazetteers to /root/nltk_data...\n",
            "[nltk_data]    |   Unzipping corpora/gazetteers.zip.\n",
            "[nltk_data]    | Downloading package genesis to /root/nltk_data...\n",
            "[nltk_data]    |   Unzipping corpora/genesis.zip.\n",
            "[nltk_data]    | Downloading package gutenberg to /root/nltk_data...\n",
            "[nltk_data]    |   Unzipping corpora/gutenberg.zip.\n",
            "[nltk_data]    | Downloading package ieer to /root/nltk_data...\n",
            "[nltk_data]    |   Unzipping corpora/ieer.zip.\n",
            "[nltk_data]    | Downloading package inaugural to /root/nltk_data...\n",
            "[nltk_data]    |   Unzipping corpora/inaugural.zip.\n",
            "[nltk_data]    | Downloading package indian to /root/nltk_data...\n",
            "[nltk_data]    |   Unzipping corpora/indian.zip.\n",
            "[nltk_data]    | Downloading package jeita to /root/nltk_data...\n",
            "[nltk_data]    | Downloading package kimmo to /root/nltk_data...\n",
            "[nltk_data]    |   Unzipping corpora/kimmo.zip.\n",
            "[nltk_data]    | Downloading package knbc to /root/nltk_data...\n",
            "[nltk_data]    | Downloading package lin_thesaurus to\n",
            "[nltk_data]    |     /root/nltk_data...\n",
            "[nltk_data]    |   Unzipping corpora/lin_thesaurus.zip.\n",
            "[nltk_data]    | Downloading package mac_morpho to /root/nltk_data...\n",
            "[nltk_data]    |   Unzipping corpora/mac_morpho.zip.\n",
            "[nltk_data]    | Downloading package machado to /root/nltk_data...\n",
            "[nltk_data]    | Downloading package masc_tagged to /root/nltk_data...\n",
            "[nltk_data]    | Downloading package moses_sample to\n",
            "[nltk_data]    |     /root/nltk_data...\n",
            "[nltk_data]    |   Unzipping models/moses_sample.zip.\n",
            "[nltk_data]    | Downloading package movie_reviews to\n",
            "[nltk_data]    |     /root/nltk_data...\n",
            "[nltk_data]    |   Unzipping corpora/movie_reviews.zip.\n",
            "[nltk_data]    | Downloading package names to /root/nltk_data...\n",
            "[nltk_data]    |   Unzipping corpora/names.zip.\n",
            "[nltk_data]    | Downloading package nombank.1.0 to /root/nltk_data...\n",
            "[nltk_data]    | Downloading package nps_chat to /root/nltk_data...\n",
            "[nltk_data]    |   Unzipping corpora/nps_chat.zip.\n",
            "[nltk_data]    | Downloading package omw to /root/nltk_data...\n",
            "[nltk_data]    |   Unzipping corpora/omw.zip.\n",
            "[nltk_data]    | Downloading package opinion_lexicon to\n",
            "[nltk_data]    |     /root/nltk_data...\n",
            "[nltk_data]    |   Unzipping corpora/opinion_lexicon.zip.\n",
            "[nltk_data]    | Downloading package paradigms to /root/nltk_data...\n",
            "[nltk_data]    |   Unzipping corpora/paradigms.zip.\n",
            "[nltk_data]    | Downloading package pil to /root/nltk_data...\n",
            "[nltk_data]    |   Unzipping corpora/pil.zip.\n",
            "[nltk_data]    | Downloading package pl196x to /root/nltk_data...\n",
            "[nltk_data]    |   Unzipping corpora/pl196x.zip.\n",
            "[nltk_data]    | Downloading package ppattach to /root/nltk_data...\n",
            "[nltk_data]    |   Unzipping corpora/ppattach.zip.\n",
            "[nltk_data]    | Downloading package problem_reports to\n",
            "[nltk_data]    |     /root/nltk_data...\n",
            "[nltk_data]    |   Unzipping corpora/problem_reports.zip.\n",
            "[nltk_data]    | Downloading package propbank to /root/nltk_data...\n",
            "[nltk_data]    | Downloading package ptb to /root/nltk_data...\n",
            "[nltk_data]    |   Unzipping corpora/ptb.zip.\n",
            "[nltk_data]    | Downloading package product_reviews_1 to\n",
            "[nltk_data]    |     /root/nltk_data...\n",
            "[nltk_data]    |   Unzipping corpora/product_reviews_1.zip.\n",
            "[nltk_data]    | Downloading package product_reviews_2 to\n",
            "[nltk_data]    |     /root/nltk_data...\n",
            "[nltk_data]    |   Unzipping corpora/product_reviews_2.zip.\n",
            "[nltk_data]    | Downloading package pros_cons to /root/nltk_data...\n",
            "[nltk_data]    |   Unzipping corpora/pros_cons.zip.\n",
            "[nltk_data]    | Downloading package qc to /root/nltk_data...\n",
            "[nltk_data]    |   Unzipping corpora/qc.zip.\n",
            "[nltk_data]    | Downloading package reuters to /root/nltk_data...\n",
            "[nltk_data]    | Downloading package rte to /root/nltk_data...\n",
            "[nltk_data]    |   Unzipping corpora/rte.zip.\n",
            "[nltk_data]    | Downloading package semcor to /root/nltk_data...\n",
            "[nltk_data]    | Downloading package senseval to /root/nltk_data...\n",
            "[nltk_data]    |   Unzipping corpora/senseval.zip.\n",
            "[nltk_data]    | Downloading package sentiwordnet to\n",
            "[nltk_data]    |     /root/nltk_data...\n",
            "[nltk_data]    |   Unzipping corpora/sentiwordnet.zip.\n",
            "[nltk_data]    | Downloading package sentence_polarity to\n",
            "[nltk_data]    |     /root/nltk_data...\n",
            "[nltk_data]    |   Unzipping corpora/sentence_polarity.zip.\n",
            "[nltk_data]    | Downloading package shakespeare to /root/nltk_data...\n",
            "[nltk_data]    |   Unzipping corpora/shakespeare.zip.\n",
            "[nltk_data]    | Downloading package sinica_treebank to\n",
            "[nltk_data]    |     /root/nltk_data...\n",
            "[nltk_data]    |   Unzipping corpora/sinica_treebank.zip.\n",
            "[nltk_data]    | Downloading package smultron to /root/nltk_data...\n",
            "[nltk_data]    |   Unzipping corpora/smultron.zip.\n",
            "[nltk_data]    | Downloading package state_union to /root/nltk_data...\n",
            "[nltk_data]    |   Unzipping corpora/state_union.zip.\n",
            "[nltk_data]    | Downloading package stopwords to /root/nltk_data...\n",
            "[nltk_data]    |   Package stopwords is already up-to-date!\n",
            "[nltk_data]    | Downloading package subjectivity to\n",
            "[nltk_data]    |     /root/nltk_data...\n",
            "[nltk_data]    |   Unzipping corpora/subjectivity.zip.\n",
            "[nltk_data]    | Downloading package swadesh to /root/nltk_data...\n",
            "[nltk_data]    |   Unzipping corpora/swadesh.zip.\n",
            "[nltk_data]    | Downloading package switchboard to /root/nltk_data...\n",
            "[nltk_data]    |   Unzipping corpora/switchboard.zip.\n",
            "[nltk_data]    | Downloading package timit to /root/nltk_data...\n",
            "[nltk_data]    |   Unzipping corpora/timit.zip.\n",
            "[nltk_data]    | Downloading package toolbox to /root/nltk_data...\n",
            "[nltk_data]    |   Unzipping corpora/toolbox.zip.\n",
            "[nltk_data]    | Downloading package treebank to /root/nltk_data...\n",
            "[nltk_data]    |   Unzipping corpora/treebank.zip.\n",
            "[nltk_data]    | Downloading package twitter_samples to\n",
            "[nltk_data]    |     /root/nltk_data...\n",
            "[nltk_data]    |   Unzipping corpora/twitter_samples.zip.\n",
            "[nltk_data]    | Downloading package udhr to /root/nltk_data...\n",
            "[nltk_data]    |   Unzipping corpora/udhr.zip.\n",
            "[nltk_data]    | Downloading package udhr2 to /root/nltk_data...\n",
            "[nltk_data]    |   Unzipping corpora/udhr2.zip.\n",
            "[nltk_data]    | Downloading package unicode_samples to\n",
            "[nltk_data]    |     /root/nltk_data...\n",
            "[nltk_data]    |   Unzipping corpora/unicode_samples.zip.\n",
            "[nltk_data]    | Downloading package universal_treebanks_v20 to\n",
            "[nltk_data]    |     /root/nltk_data...\n",
            "[nltk_data]    | Downloading package verbnet to /root/nltk_data...\n",
            "[nltk_data]    |   Unzipping corpora/verbnet.zip.\n",
            "[nltk_data]    | Downloading package verbnet3 to /root/nltk_data...\n",
            "[nltk_data]    |   Unzipping corpora/verbnet3.zip.\n",
            "[nltk_data]    | Downloading package webtext to /root/nltk_data...\n",
            "[nltk_data]    |   Unzipping corpora/webtext.zip.\n",
            "[nltk_data]    | Downloading package wordnet to /root/nltk_data...\n",
            "[nltk_data]    |   Unzipping corpora/wordnet.zip.\n",
            "[nltk_data]    | Downloading package wordnet_ic to /root/nltk_data...\n",
            "[nltk_data]    |   Unzipping corpora/wordnet_ic.zip.\n",
            "[nltk_data]    | Downloading package words to /root/nltk_data...\n",
            "[nltk_data]    |   Unzipping corpora/words.zip.\n",
            "[nltk_data]    | Downloading package ycoe to /root/nltk_data...\n",
            "[nltk_data]    |   Unzipping corpora/ycoe.zip.\n",
            "[nltk_data]    | Downloading package rslp to /root/nltk_data...\n",
            "[nltk_data]    |   Unzipping stemmers/rslp.zip.\n",
            "[nltk_data]    | Downloading package maxent_treebank_pos_tagger to\n",
            "[nltk_data]    |     /root/nltk_data...\n",
            "[nltk_data]    |   Unzipping taggers/maxent_treebank_pos_tagger.zip.\n",
            "[nltk_data]    | Downloading package universal_tagset to\n",
            "[nltk_data]    |     /root/nltk_data...\n",
            "[nltk_data]    |   Unzipping taggers/universal_tagset.zip.\n",
            "[nltk_data]    | Downloading package maxent_ne_chunker to\n",
            "[nltk_data]    |     /root/nltk_data...\n",
            "[nltk_data]    |   Unzipping chunkers/maxent_ne_chunker.zip.\n",
            "[nltk_data]    | Downloading package punkt to /root/nltk_data...\n",
            "[nltk_data]    |   Unzipping tokenizers/punkt.zip.\n",
            "[nltk_data]    | Downloading package book_grammars to\n",
            "[nltk_data]    |     /root/nltk_data...\n",
            "[nltk_data]    |   Unzipping grammars/book_grammars.zip.\n",
            "[nltk_data]    | Downloading package sample_grammars to\n",
            "[nltk_data]    |     /root/nltk_data...\n",
            "[nltk_data]    |   Unzipping grammars/sample_grammars.zip.\n",
            "[nltk_data]    | Downloading package spanish_grammars to\n",
            "[nltk_data]    |     /root/nltk_data...\n",
            "[nltk_data]    |   Unzipping grammars/spanish_grammars.zip.\n",
            "[nltk_data]    | Downloading package basque_grammars to\n",
            "[nltk_data]    |     /root/nltk_data...\n",
            "[nltk_data]    |   Unzipping grammars/basque_grammars.zip.\n",
            "[nltk_data]    | Downloading package large_grammars to\n",
            "[nltk_data]    |     /root/nltk_data...\n",
            "[nltk_data]    |   Unzipping grammars/large_grammars.zip.\n",
            "[nltk_data]    | Downloading package tagsets to /root/nltk_data...\n",
            "[nltk_data]    |   Unzipping help/tagsets.zip.\n",
            "[nltk_data]    | Downloading package snowball_data to\n",
            "[nltk_data]    |     /root/nltk_data...\n",
            "[nltk_data]    | Downloading package bllip_wsj_no_aux to\n",
            "[nltk_data]    |     /root/nltk_data...\n",
            "[nltk_data]    |   Unzipping models/bllip_wsj_no_aux.zip.\n",
            "[nltk_data]    | Downloading package word2vec_sample to\n",
            "[nltk_data]    |     /root/nltk_data...\n",
            "[nltk_data]    |   Unzipping models/word2vec_sample.zip.\n",
            "[nltk_data]    | Downloading package panlex_swadesh to\n",
            "[nltk_data]    |     /root/nltk_data...\n",
            "[nltk_data]    | Downloading package mte_teip5 to /root/nltk_data...\n",
            "[nltk_data]    |   Unzipping corpora/mte_teip5.zip.\n",
            "[nltk_data]    | Downloading package averaged_perceptron_tagger to\n",
            "[nltk_data]    |     /root/nltk_data...\n",
            "[nltk_data]    |   Unzipping taggers/averaged_perceptron_tagger.zip.\n",
            "[nltk_data]    | Downloading package averaged_perceptron_tagger_ru to\n",
            "[nltk_data]    |     /root/nltk_data...\n",
            "[nltk_data]    |   Unzipping\n",
            "[nltk_data]    |       taggers/averaged_perceptron_tagger_ru.zip.\n",
            "[nltk_data]    | Downloading package perluniprops to\n",
            "[nltk_data]    |     /root/nltk_data...\n",
            "[nltk_data]    |   Unzipping misc/perluniprops.zip.\n",
            "[nltk_data]    | Downloading package nonbreaking_prefixes to\n",
            "[nltk_data]    |     /root/nltk_data...\n",
            "[nltk_data]    |   Unzipping corpora/nonbreaking_prefixes.zip.\n",
            "[nltk_data]    | Downloading package vader_lexicon to\n",
            "[nltk_data]    |     /root/nltk_data...\n",
            "[nltk_data]    | Downloading package porter_test to /root/nltk_data...\n",
            "[nltk_data]    |   Unzipping stemmers/porter_test.zip.\n",
            "[nltk_data]    | Downloading package wmt15_eval to /root/nltk_data...\n",
            "[nltk_data]    |   Unzipping models/wmt15_eval.zip.\n",
            "[nltk_data]    | Downloading package mwa_ppdb to /root/nltk_data...\n",
            "[nltk_data]    |   Unzipping misc/mwa_ppdb.zip.\n",
            "[nltk_data]    | \n",
            "[nltk_data]  Done downloading collection all\n"
          ],
          "name": "stdout"
        }
      ]
    },
    {
      "cell_type": "code",
      "metadata": {
        "colab": {
          "base_uri": "https://localhost:8080/"
        },
        "id": "s21M5naUO2fQ",
        "outputId": "dc07fbcc-c3ae-43e4-ee56-16c94d974217"
      },
      "source": [
        "def counting_stopwords(data):\r\n",
        "    count_words=[]\r\n",
        "    for i in tqdm(data['item_description']):\r\n",
        "        count=0\r\n",
        "        for j in i.split(' '):\r\n",
        "            if j in stopwords:\r\n",
        "                count+=1\r\n",
        "        count_words.append(count)\r\n",
        "    return count_words\r\n",
        "train_data['count_of_stopwords']=counting_stopwords(train_data)\r\n",
        "test_data['count_of_stopwords']=counting_stopwords(test_data)"
      ],
      "execution_count": 20,
      "outputs": [
        {
          "output_type": "stream",
          "text": [
            "100%|██████████| 1481661/1481661 [00:05<00:00, 251652.82it/s]\n",
            "100%|██████████| 3460725/3460725 [00:13<00:00, 259652.89it/s]\n"
          ],
          "name": "stderr"
        }
      ]
    },
    {
      "cell_type": "code",
      "metadata": {
        "id": "JhU1OxcLO2ib"
      },
      "source": [
        "\r\n",
        "# ref - www.appliedaicourse.com/\r\n",
        "''' This code performs text processing by cleaning text including \r\n",
        "removing stopwords, reemoving special characters, performing, word decontraction etc. '''\r\n",
        "\r\n",
        "def decontracted(phrase):\r\n",
        "    # specific\r\n",
        "    phrase = re.sub(r\"won't\", \"will not\", phrase)\r\n",
        "    phrase = re.sub(r\"can\\'t\", \"can not\", phrase)\r\n",
        "\r\n",
        "    # general\r\n",
        "    phrase = re.sub(r\"n\\'t\", \" not\", phrase)\r\n",
        "    phrase = re.sub(r\"\\'re\", \" are\", phrase)\r\n",
        "    phrase = re.sub(r\"\\'s\", \" is\", phrase)\r\n",
        "    phrase = re.sub(r\"\\'d\", \" would\", phrase)\r\n",
        "    phrase = re.sub(r\"\\'ll\", \" will\", phrase)\r\n",
        "    phrase = re.sub(r\"\\'t\", \" not\", phrase)\r\n",
        "    phrase = re.sub(r\"\\'ve\", \" have\", phrase)\r\n",
        "    phrase = re.sub(r\"\\'m\", \" am\", phrase)\r\n",
        "    return phrase\r\n",
        "\r\n",
        "# https://gist.github.com/sebleier/554280\r\n",
        "# we are removing the words from the stop words list: 'no', 'nor', 'not'\r\n",
        "stopwords= ['i', 'me', 'my', 'myself', 'we', 'our', 'ours', 'ourselves', 'you', \"you're\", \"you've\",\\\r\n",
        "            \"you'll\", \"you'd\", 'your', 'yours', 'yourself', 'yourselves', 'he', 'him', 'his', 'himself', \\\r\n",
        "            'she', \"she's\", 'her', 'hers', 'herself', 'it', \"it's\", 'its', 'itself', 'they', 'them', 'their',\\\r\n",
        "            'theirs', 'themselves', 'what', 'which', 'who', 'whom', 'this', 'that', \"that'll\", 'these', 'those', \\\r\n",
        "            'am', 'is', 'are', 'was', 'were', 'be', 'been', 'being', 'have', 'has', 'had', 'having', 'do', 'does', \\\r\n",
        "            'did', 'doing', 'a', 'an', 'the', 'and', 'but', 'if', 'or', 'because', 'as', 'until', 'while', 'of', \\\r\n",
        "            'at', 'by', 'for', 'with', 'about', 'against', 'between', 'into', 'through', 'during', 'before', 'after',\\\r\n",
        "            'above', 'below', 'to', 'from', 'up', 'down', 'in', 'out', 'on', 'off', 'over', 'under', 'again', 'further',\\\r\n",
        "            'then', 'once', 'here', 'there', 'when', 'where', 'why', 'how', 'all', 'any', 'both', 'each', 'few', 'more',\\\r\n",
        "            'most', 'other', 'some', 'such', 'only', 'own', 'same', 'so', 'than', 'too', 'very', \\\r\n",
        "            's', 't', 'can', 'will', 'just', 'don', \"don't\", 'should', \"should've\", 'now', 'd', 'll', 'm', 'o', 're', \\\r\n",
        "            've', 'y', 'ain', 'aren', \"aren't\", 'couldn', \"couldn't\", 'didn', \"didn't\", 'doesn', \"doesn't\", 'hadn',\\\r\n",
        "            \"hadn't\", 'hasn', \"hasn't\", 'haven', \"haven't\", 'isn', \"isn't\", 'ma', 'mightn', \"mightn't\", 'mustn',\\\r\n",
        "            \"mustn't\", 'needn', \"needn't\", 'shan', \"shan't\", 'shouldn', \"shouldn't\", 'wasn', \"wasn't\", 'weren', \"weren't\", \\\r\n",
        "            'won', \"won't\", 'wouldn', \"wouldn't\"]\r\n",
        "\r\n",
        "def text_preprocess(data):\r\n",
        "    preprocessed = []\r\n",
        "    # tqdm is for printing the status bar\r\n",
        "    for sentance in tqdm_notebook(data):\r\n",
        "        sent = decontracted(sentance)\r\n",
        "        sent = sent.replace('\\\\r', ' ')\r\n",
        "        sent = sent.replace('\\\\\"', ' ')\r\n",
        "        sent = sent.replace('\\\\n', ' ')\r\n",
        "        sent = re.sub('[^A-Za-z0-9]+', ' ', sent)\r\n",
        "        # https://gist.github.com/sebleier/554280\r\n",
        "        sent = ' '.join(e for e in sent.split() if e not in stopwords)\r\n",
        "        preprocessed.append(sent.lower().strip())\r\n",
        "    return preprocessed"
      ],
      "execution_count": 21,
      "outputs": []
    },
    {
      "cell_type": "code",
      "metadata": {
        "colab": {
          "base_uri": "https://localhost:8080/",
          "height": 115,
          "referenced_widgets": [
            "214a59e471de45b9a9d6a07c8d83aeb2",
            "885de545c57a43b29fee0bbd8870f2e4",
            "f1da95a094b843898e929ad343b638c3",
            "52f658cc00aa4cd5a256f0f2c2a471ad",
            "b4b0c70e0a7e4d6db40c8fa6deea0524",
            "0db305fa87fd43a8874edfffa9751c0d",
            "a73bde3649294ff295f10180f63ad7c3",
            "a7d61ecd255c457ba2a969ef00025cce",
            "69576ca728df4edbaf651cc5eed92cf1",
            "283d719b2bff41f28eb1cc1f924e16ba",
            "621360fbd6394c31adcf23700cbfab82",
            "e672d82b48eb477eae2674542da8d233",
            "77ab35587a324fa5ac7a105e5c01a802",
            "11c9ab2435694756b2ae4aeb7ab8d108",
            "60145699fe9447598529bf47ac67dd42",
            "9c509ef0d44e4664b06adf0ec2a51950"
          ]
        },
        "id": "kMMOG-gGO2l1",
        "outputId": "40457bd5-93e5-4104-c916-e3d494e3f62e"
      },
      "source": [
        "train_data['preprocessed_item_des'] = text_preprocess(train_data['item_description'])\r\n",
        "test_data['preprocessed_item_des'] = text_preprocess(test_data['item_description'])"
      ],
      "execution_count": 22,
      "outputs": [
        {
          "output_type": "display_data",
          "data": {
            "application/vnd.jupyter.widget-view+json": {
              "model_id": "214a59e471de45b9a9d6a07c8d83aeb2",
              "version_minor": 0,
              "version_major": 2
            },
            "text/plain": [
              "HBox(children=(FloatProgress(value=0.0, max=1481661.0), HTML(value='')))"
            ]
          },
          "metadata": {
            "tags": []
          }
        },
        {
          "output_type": "stream",
          "text": [
            "\n"
          ],
          "name": "stdout"
        },
        {
          "output_type": "display_data",
          "data": {
            "application/vnd.jupyter.widget-view+json": {
              "model_id": "69576ca728df4edbaf651cc5eed92cf1",
              "version_minor": 0,
              "version_major": 2
            },
            "text/plain": [
              "HBox(children=(FloatProgress(value=0.0, max=3460725.0), HTML(value='')))"
            ]
          },
          "metadata": {
            "tags": []
          }
        },
        {
          "output_type": "stream",
          "text": [
            "\n"
          ],
          "name": "stdout"
        }
      ]
    },
    {
      "cell_type": "code",
      "metadata": {
        "id": "Vg-JU69mO2ov"
      },
      "source": [
        "train_data['length']=train_data['preprocessed_item_des'].str.len()\r\n",
        "test_data['length']=test_data['preprocessed_item_des'].str.len()"
      ],
      "execution_count": 23,
      "outputs": []
    },
    {
      "cell_type": "code",
      "metadata": {
        "id": "R61N1IRsO2rw"
      },
      "source": [
        "def brand_name_category(data):\r\n",
        "    cat_brandname=[]\r\n",
        "    for i in data['brand_name']:\r\n",
        "        if i!='unknown':\r\n",
        "            cat_brandname.append(1)\r\n",
        "        else:\r\n",
        "            cat_brandname.append(0)\r\n",
        "    return cat_brandname\r\n",
        "    \r\n",
        "train_data['brand_name_present']=brand_name_category(train_data)\r\n",
        "test_data['brand_name_present']=brand_name_category(test_data)"
      ],
      "execution_count": 24,
      "outputs": []
    },
    {
      "cell_type": "code",
      "metadata": {
        "id": "bNjnKQ0gPmaD"
      },
      "source": [
        "#we have done stopword removal on item description and obtained new column so now we are remvoing item description and keeping other column\r\n",
        "del train_data['item_description']\r\n",
        "del test_data['item_description']"
      ],
      "execution_count": 25,
      "outputs": []
    },
    {
      "cell_type": "markdown",
      "metadata": {
        "id": "jP-gLuoekRA-"
      },
      "source": [
        "splitting the data into train data and cv data"
      ]
    },
    {
      "cell_type": "code",
      "metadata": {
        "id": "uG6Vqgc9PqxB"
      },
      "source": [
        "#train_test_split\r\n",
        "y=train_data['log_price']"
      ],
      "execution_count": 26,
      "outputs": []
    },
    {
      "cell_type": "code",
      "metadata": {
        "id": "X5YNOhxMQHeL"
      },
      "source": [
        "X=train_data.drop(['log_price'], axis=1)"
      ],
      "execution_count": 27,
      "outputs": []
    },
    {
      "cell_type": "code",
      "metadata": {
        "id": "wd3ncKdLQH5j"
      },
      "source": [
        "# splitting train internally into train and cv\r\n",
        "X_train, X_cv, y_train, y_cv = train_test_split(X,y, test_size=0.1)"
      ],
      "execution_count": 28,
      "outputs": []
    },
    {
      "cell_type": "code",
      "metadata": {
        "colab": {
          "base_uri": "https://localhost:8080/"
        },
        "id": "BZ5EEOH4QKcj",
        "outputId": "d1be8661-50e9-4875-ed6f-4351546cc71d"
      },
      "source": [
        "print(X_train.shape , y_train.shape)\r\n",
        "print(X_cv.shape    , y_cv.shape)"
      ],
      "execution_count": 29,
      "outputs": [
        {
          "output_type": "stream",
          "text": [
            "(1333494, 12) (1333494,)\n",
            "(148167, 12) (148167,)\n"
          ],
          "name": "stdout"
        }
      ]
    },
    {
      "cell_type": "code",
      "metadata": {
        "id": "MoPB7izVQXTE"
      },
      "source": [
        "t = Tokenizer()\r\n",
        "t.fit_on_texts(X_train['name'].tolist())\r\n",
        "encoded_docs_X_train_name = t.texts_to_sequences(X_train[\"name\"])\r\n",
        "encoded_docs_X_cv_name=t.texts_to_sequences(X_cv['name'])\r\n",
        "encoded_docs_X_test_name=t.texts_to_sequences(test_data['name'])"
      ],
      "execution_count": 30,
      "outputs": []
    },
    {
      "cell_type": "code",
      "metadata": {
        "colab": {
          "base_uri": "https://localhost:8080/"
        },
        "id": "E3OXaw333_Sy",
        "outputId": "80797af1-b20c-4753-86ee-bf9bc0a43d71"
      },
      "source": [
        "len_docs = []\r\n",
        "for doc in X_train['name']:\r\n",
        "    splitted_doc = doc.split()\r\n",
        "    len_docs.append(len(splitted_doc))\r\n",
        "max_len_doc = max(len_docs)\r\n",
        "max_length=max_len_doc\r\n",
        "print(max_length)"
      ],
      "execution_count": 31,
      "outputs": [
        {
          "output_type": "stream",
          "text": [
            "17\n"
          ],
          "name": "stdout"
        }
      ]
    },
    {
      "cell_type": "code",
      "metadata": {
        "colab": {
          "base_uri": "https://localhost:8080/"
        },
        "id": "obCvlabtQXeu",
        "outputId": "cfc34642-cdad-4841-e605-cafd998ba848"
      },
      "source": [
        "padded_docs_X_train_name = pad_sequences(encoded_docs_X_train_name, maxlen=max_length, padding='post')\r\n",
        "padded_docs_X_cv_name= pad_sequences(encoded_docs_X_cv_name, maxlen=max_length,padding='post')\r\n",
        "padded_docs_X_test_name= pad_sequences(encoded_docs_X_test_name, maxlen=max_length,padding='post')\r\n",
        "\r\n",
        "print(padded_docs_X_train_name.shape)"
      ],
      "execution_count": 32,
      "outputs": [
        {
          "output_type": "stream",
          "text": [
            "(1333494, 17)\n"
          ],
          "name": "stdout"
        }
      ]
    },
    {
      "cell_type": "code",
      "metadata": {
        "colab": {
          "base_uri": "https://localhost:8080/"
        },
        "id": "IASL5mU47JiT",
        "outputId": "5650de01-f713-495a-9455-94a0135c1485"
      },
      "source": [
        "vocab_size = len(t.word_index) + 1\r\n",
        "print(vocab_size)"
      ],
      "execution_count": 33,
      "outputs": [
        {
          "output_type": "stream",
          "text": [
            "111677\n"
          ],
          "name": "stdout"
        }
      ]
    },
    {
      "cell_type": "code",
      "metadata": {
        "id": "Sd3skkauQXqu"
      },
      "source": [
        "embeddings_index = dict()\r\n",
        "with open('/content/drive/MyDrive/mercari/wiki-news-300d-1M.vec') as f:\r\n",
        "    for line in f:\r\n",
        "        w_coef = line.rstrip().rsplit(' ')\r\n",
        "        word = w_coef[0]\r\n",
        "        coefs = np.asarray(w_coef[1:], dtype='float32')\r\n",
        "        embeddings_index[word]=coefs\r\n",
        "embedding_matrix = np.zeros((vocab_size, 300))\r\n",
        "for word, i in t.word_index.items():\r\n",
        "    embedding_vector = embeddings_index.get(word)\r\n",
        "    if embedding_vector is not None:\r\n",
        "        embedding_matrix[i] = embedding_vector"
      ],
      "execution_count": 34,
      "outputs": []
    },
    {
      "cell_type": "code",
      "metadata": {
        "colab": {
          "base_uri": "https://localhost:8080/"
        },
        "id": "cU_ppICpQjjM",
        "outputId": "8e73f9d4-dde5-4f25-fcf6-caf6d68c0476"
      },
      "source": [
        "print(embedding_matrix.shape)"
      ],
      "execution_count": 35,
      "outputs": [
        {
          "output_type": "stream",
          "text": [
            "(111677, 300)\n"
          ],
          "name": "stdout"
        }
      ]
    },
    {
      "cell_type": "code",
      "metadata": {
        "id": "8kHDBMkzQnIJ"
      },
      "source": [
        "input_layer_name=Input(shape=(max_length,), name='input_layer_name')\r\n",
        "embedding_layer = Embedding(vocab_size, 300, weights=[embedding_matrix], input_length=max_length, trainable=False)(input_layer_name)\r\n",
        "x1 = Conv1D(filters=32, kernel_size=3,  padding='same', activation='relu')(embedding_layer)\r\n",
        "x1 = MaxPool1D(pool_size=2, padding='same')(x1)\r\n",
        "lstm=LSTM(128)(x1)\r\n",
        "flatten_1=Flatten()(lstm)"
      ],
      "execution_count": 36,
      "outputs": []
    },
    {
      "cell_type": "code",
      "metadata": {
        "id": "HIvDFqmkPpS4"
      },
      "source": [
        "le = LabelEncoder()\r\n",
        "le.fit(X_train['sub_cat1'])\r\n",
        "X_train_sub_cat1 = le.transform(X_train[\"sub_cat1\"])\r\n",
        "X_cv_sub_cat1 = le.transform(X_cv[\"sub_cat1\"])\r\n",
        "X_test_sub_cat1 = le.transform(test_data[\"sub_cat1\"])"
      ],
      "execution_count": 37,
      "outputs": []
    },
    {
      "cell_type": "code",
      "metadata": {
        "colab": {
          "base_uri": "https://localhost:8080/"
        },
        "id": "4Xu9rOeNQ_bJ",
        "outputId": "1973ee58-5cee-4270-de4d-e1b10d1d985a"
      },
      "source": [
        "input_1= Input(shape=(1,), name= 'sub_cat1')\r\n",
        "vocab_size_1= X_train['sub_cat1'].nunique()\r\n",
        "print(vocab_size_1)\r\n",
        "embedding_layer_1 = Embedding(input_dim=vocab_size_1+1 ,output_dim=min(vocab_size_1//2,50),input_length=1)(input_1)\r\n",
        "flatten_2=Flatten()(embedding_layer_1)"
      ],
      "execution_count": 38,
      "outputs": [
        {
          "output_type": "stream",
          "text": [
            "11\n"
          ],
          "name": "stdout"
        }
      ]
    },
    {
      "cell_type": "code",
      "metadata": {
        "id": "t2VV5oxkRBhS"
      },
      "source": [
        "le = LabelEncoder()\r\n",
        "le.fit(X_train['sub_cat2'])\r\n",
        "X_train_sub_cat2 = le.transform(X_train[\"sub_cat2\"])\r\n",
        "X_cv_sub_cat2 = le.transform(X_cv[\"sub_cat2\"])\r\n",
        "X_test_sub_cat2 = le.transform(test_data[\"sub_cat2\"])"
      ],
      "execution_count": 39,
      "outputs": []
    },
    {
      "cell_type": "code",
      "metadata": {
        "id": "QeZr6rmfRD5N"
      },
      "source": [
        "input_2 = Input(shape=(1,), name= 'sub_cat2')\r\n",
        "vocab_size_1= X_train['sub_cat2'].nunique()\r\n",
        "embedding_layer_2 = Embedding(input_dim=vocab_size_1+1 ,output_dim=min(vocab_size_1//2,50),input_length=1)(input_2)\r\n",
        "flatten_3=Flatten()(embedding_layer_2)\r\n"
      ],
      "execution_count": 40,
      "outputs": []
    },
    {
      "cell_type": "code",
      "metadata": {
        "id": "zRekV-GiRFhY"
      },
      "source": [
        "le = LabelEncoder()\r\n",
        "le.fit(X_train['sub_cat3'])\r\n",
        "\r\n",
        "X_cv[\"sub_cat3\"] = X_cv[\"sub_cat3\"].map(lambda s: '<unknown>' if s not in le.classes_ else s)\r\n",
        "le.classes_ = np.append(le.classes_, '<unknown>')\r\n",
        "test_data[\"sub_cat3\"] = test_data[\"sub_cat3\"].map(lambda s: '<unknown>' if s not in le.classes_ else s)\r\n",
        "\r\n",
        "X_train_sub_cat3 = le.transform(X_train[\"sub_cat3\"])\r\n",
        "X_cv_sub_cat3 = le.transform(X_cv[\"sub_cat3\"])\r\n",
        "X_test_sub_cat3 = le.transform(test_data[\"sub_cat3\"])"
      ],
      "execution_count": 41,
      "outputs": []
    },
    {
      "cell_type": "code",
      "metadata": {
        "id": "AzLWOX_CRHov"
      },
      "source": [
        "input_3 = Input(shape=(1,), name= 'sub_cat3')\r\n",
        "vocab_size_1= X_train['sub_cat3'].nunique()\r\n",
        "embedding_layer_3 = Embedding(input_dim=vocab_size_1+1 ,output_dim=min(vocab_size_1//2,50),input_length=1)(input_3)\r\n",
        "flatten_4=Flatten()(embedding_layer_3)\r\n"
      ],
      "execution_count": 42,
      "outputs": []
    },
    {
      "cell_type": "code",
      "metadata": {
        "id": "pDR_8Zp7RJv_"
      },
      "source": [
        "le = LabelEncoder()\r\n",
        "le.fit(X_train['brand_name'])\r\n",
        "\r\n",
        "X_cv[\"brand_name\"] = X_cv[\"brand_name\"].map(lambda s: '<unknown>' if s not in le.classes_ else s)\r\n",
        "le.classes_ = np.append(le.classes_, '<unknown>')\r\n",
        "test_data[\"brand_name\"] = test_data[\"brand_name\"].map(lambda s: '<unknown>' if s not in le.classes_ else s)\r\n",
        "\r\n",
        "X_train_brand_name = le.transform(X_train[\"brand_name\"])\r\n",
        "X_cv_brand_name = le.transform(X_cv[\"brand_name\"])\r\n",
        "X_test_brand_name = le.transform(test_data[\"brand_name\"])"
      ],
      "execution_count": 43,
      "outputs": []
    },
    {
      "cell_type": "code",
      "metadata": {
        "colab": {
          "base_uri": "https://localhost:8080/"
        },
        "id": "n-OHkCKtRMDw",
        "outputId": "67d07cbb-e10e-4aa8-8162-116d8c11ef9b"
      },
      "source": [
        "input_4 = Input(shape=(1,), name= 'brand_name')\r\n",
        "vocab_size_1= X_train['brand_name'].nunique()\r\n",
        "print(vocab_size_1)\r\n",
        "embedding_layer_4 = Embedding(input_dim=vocab_size_1+1 ,output_dim=min(vocab_size_1//2,50),input_length=1)(input_4)\r\n",
        "flatten_5=Flatten()(embedding_layer_4)\r\n"
      ],
      "execution_count": 44,
      "outputs": [
        {
          "output_type": "stream",
          "text": [
            "4678\n"
          ],
          "name": "stdout"
        }
      ]
    },
    {
      "cell_type": "code",
      "metadata": {
        "id": "yfSoqEM0ROH3"
      },
      "source": [
        "t1 = Tokenizer( )\r\n",
        "t1.fit_on_texts(X_train['preprocessed_item_des'].tolist())\r\n",
        "encoded_docs_X_train_pre_item_des = t1.texts_to_sequences(X_train[\"preprocessed_item_des\"])\r\n",
        "encoded_docs_X_cv_pre_item_des=t1.texts_to_sequences(X_cv['preprocessed_item_des'])\r\n",
        "encoded_docs_X_test_pre_item_des=t1.texts_to_sequences(test_data['preprocessed_item_des'])\r\n"
      ],
      "execution_count": 46,
      "outputs": []
    },
    {
      "cell_type": "code",
      "metadata": {
        "colab": {
          "base_uri": "https://localhost:8080/"
        },
        "id": "fXXVKGQQ44pz",
        "outputId": "4d5cc02f-14da-42c3-b7a3-ac3faa0766f7"
      },
      "source": [
        "len_docs = []\r\n",
        "for doc in X_train['preprocessed_item_des']:\r\n",
        "    splitted_doc = doc.split()\r\n",
        "    len_docs.append(len(splitted_doc))\r\n",
        "max_len_doc = max(len_docs)\r\n",
        "max_length=max_len_doc\r\n",
        "print(max_length)"
      ],
      "execution_count": 47,
      "outputs": [
        {
          "output_type": "stream",
          "text": [
            "253\n"
          ],
          "name": "stdout"
        }
      ]
    },
    {
      "cell_type": "code",
      "metadata": {
        "colab": {
          "base_uri": "https://localhost:8080/"
        },
        "id": "bWLaa83QRQfi",
        "outputId": "a30e9fd9-bf3a-456b-d9f8-8eccedc978b8"
      },
      "source": [
        "padded_docs_X_train_pre_item_des = pad_sequences(encoded_docs_X_train_pre_item_des, maxlen=max_length, padding='post')\r\n",
        "padded_docs_X_cv_pre_item_des= pad_sequences(encoded_docs_X_cv_pre_item_des, maxlen=max_length,padding='post')\r\n",
        "\r\n",
        "padded_docs_X_test_pre_item_des= pad_sequences(encoded_docs_X_test_pre_item_des, maxlen=max_length,padding='post')\r\n",
        "\r\n",
        "print(padded_docs_X_train_pre_item_des.shape)"
      ],
      "execution_count": 48,
      "outputs": [
        {
          "output_type": "stream",
          "text": [
            "(1333494, 253)\n"
          ],
          "name": "stdout"
        }
      ]
    },
    {
      "cell_type": "code",
      "metadata": {
        "colab": {
          "base_uri": "https://localhost:8080/"
        },
        "id": "a0trVlFf_4_y",
        "outputId": "fcaf8a98-f66a-4b6b-870d-fcd421ccd3c0"
      },
      "source": [
        "vocab_size=len(t1.word_index)+1\r\n",
        "vocab_size"
      ],
      "execution_count": 49,
      "outputs": [
        {
          "output_type": "execute_result",
          "data": {
            "text/plain": [
              "152028"
            ]
          },
          "metadata": {
            "tags": []
          },
          "execution_count": 49
        }
      ]
    },
    {
      "cell_type": "code",
      "metadata": {
        "id": "Q6ZpiVV_RWhy"
      },
      "source": [
        "embeddings_index = dict()\r\n",
        "with open('/content/drive/MyDrive/mercari/wiki-news-300d-1M.vec') as f:\r\n",
        "    for line in f:\r\n",
        "        w_coef = line.rstrip().rsplit(' ')\r\n",
        "        word = w_coef[0]\r\n",
        "        coefs = np.asarray(w_coef[1:], dtype='float32')\r\n",
        "        embeddings_index[word]=coefs\r\n",
        "embedding_matrix = np.zeros((vocab_size, 300))\r\n",
        "for word, i in t1.word_index.items():\r\n",
        "    embedding_vector = embeddings_index.get(word)\r\n",
        "    if embedding_vector is not None:\r\n",
        "        embedding_matrix[i] = embedding_vector"
      ],
      "execution_count": 50,
      "outputs": []
    },
    {
      "cell_type": "code",
      "metadata": {
        "id": "NCc4wXzsRZi2"
      },
      "source": [
        "input_layer_pre_item_des=Input(shape=(max_length,), name='input_layer_item_des_pre')\r\n",
        "embedding_layer = Embedding(vocab_size, 300, weights=[embedding_matrix], input_length=max_length, trainable=False)(input_layer_pre_item_des)\r\n",
        "x1 = Conv1D(filters=32, kernel_size=3,  padding='same', activation='relu')(embedding_layer)\r\n",
        "x1 = MaxPool1D(pool_size=2, padding='same')(x1)\r\n",
        "lstm=LSTM(128)(x1)\r\n",
        "flatten_1_2=Flatten()(lstm)"
      ],
      "execution_count": 51,
      "outputs": []
    },
    {
      "cell_type": "code",
      "metadata": {
        "colab": {
          "base_uri": "https://localhost:8080/"
        },
        "id": "gfE5Fw9DRbjr",
        "outputId": "7abb6cb1-1026-40b8-affa-a980e35723cd"
      },
      "source": [
        "scaler=StandardScaler()\r\n",
        "scaler.fit(np.array(X_train['length']).reshape(-1,1))\r\n",
        "X_train_len=scaler.transform(np.array(X_train['length']).reshape(-1,1))\r\n",
        "X_cv_len=scaler.transform(np.array(X_cv['length']).reshape(-1,1))\r\n",
        "test_data_len=scaler.transform(np.array(test_data['length']).reshape(-1,1))\r\n",
        "print(X_train_len.shape) \r\n",
        "print(X_cv_len.shape) \r\n",
        "print(test_data_len.shape)"
      ],
      "execution_count": 52,
      "outputs": [
        {
          "output_type": "stream",
          "text": [
            "(1333494, 1)\n",
            "(148167, 1)\n",
            "(3460725, 1)\n"
          ],
          "name": "stdout"
        }
      ]
    },
    {
      "cell_type": "code",
      "metadata": {
        "colab": {
          "base_uri": "https://localhost:8080/"
        },
        "id": "AAiv6YzSRd_t",
        "outputId": "885a7769-4037-4c0b-caee-714797118d33"
      },
      "source": [
        "scaler=StandardScaler()\r\n",
        "scaler.fit(np.array(X_train['count_of_stopwords']).reshape(-1,1))\r\n",
        "X_train_stop_count=scaler.transform(np.array(X_train['count_of_stopwords']).reshape(-1,1))\r\n",
        "X_cv_stop_count=scaler.transform(np.array(X_cv['count_of_stopwords']).reshape(-1,1))\r\n",
        "test_data_stop_count=scaler.transform(np.array(test_data['count_of_stopwords']).reshape(-1,1))\r\n",
        "print(X_train_stop_count.shape) \r\n",
        "print(X_cv_stop_count.shape) \r\n",
        "print(test_data_stop_count.shape)"
      ],
      "execution_count": 53,
      "outputs": [
        {
          "output_type": "stream",
          "text": [
            "(1333494, 1)\n",
            "(148167, 1)\n",
            "(3460725, 1)\n"
          ],
          "name": "stdout"
        }
      ]
    },
    {
      "cell_type": "code",
      "metadata": {
        "colab": {
          "base_uri": "https://localhost:8080/"
        },
        "id": "iE2jbfjURf1y",
        "outputId": "d4d1e298-dda6-4207-eb7c-e53533066606"
      },
      "source": [
        "scaler=StandardScaler()\r\n",
        "scaler.fit(np.array(X_train['item_condition_id']).reshape(-1,1))\r\n",
        "X_train_item_condition_id=scaler.transform(np.array(X_train['item_condition_id']).reshape(-1,1))\r\n",
        "X_cv_item_condition_id=scaler.transform(np.array(X_cv['item_condition_id']).reshape(-1,1))\r\n",
        "test_data_item_condition_id=scaler.transform(np.array(test_data['item_condition_id']).reshape(-1,1))\r\n",
        "print(X_train_item_condition_id.shape) \r\n",
        "print(X_cv_item_condition_id.shape) \r\n",
        "print(test_data_item_condition_id.shape)"
      ],
      "execution_count": 54,
      "outputs": [
        {
          "output_type": "stream",
          "text": [
            "(1333494, 1)\n",
            "(148167, 1)\n",
            "(3460725, 1)\n"
          ],
          "name": "stdout"
        }
      ]
    },
    {
      "cell_type": "code",
      "metadata": {
        "colab": {
          "base_uri": "https://localhost:8080/"
        },
        "id": "ZCVc6s1qRh5T",
        "outputId": "7af59ac9-e76b-450f-f9ba-693e1c97325f"
      },
      "source": [
        "scaler=StandardScaler()\r\n",
        "scaler.fit(np.array(X_train['shipping']).reshape(-1,1))\r\n",
        "X_train_shipping=scaler.transform(np.array(X_train['shipping']).reshape(-1,1))\r\n",
        "X_cv_shipping=scaler.transform(np.array(X_cv['shipping']).reshape(-1,1))\r\n",
        "test_data_shipping=scaler.transform(np.array(test_data['shipping']).reshape(-1,1))\r\n",
        "print(X_train_shipping.shape) \r\n",
        "print(X_cv_shipping.shape) \r\n",
        "print(test_data_shipping.shape)"
      ],
      "execution_count": 55,
      "outputs": [
        {
          "output_type": "stream",
          "text": [
            "(1333494, 1)\n",
            "(148167, 1)\n",
            "(3460725, 1)\n"
          ],
          "name": "stdout"
        }
      ]
    },
    {
      "cell_type": "code",
      "metadata": {
        "colab": {
          "base_uri": "https://localhost:8080/"
        },
        "id": "2jTBqklXRjnP",
        "outputId": "d48446bb-029f-427d-ffbe-ec58c2ac908c"
      },
      "source": [
        "scaler=StandardScaler()\r\n",
        "scaler.fit(np.array(X_train['brand_name_present']).reshape(-1,1))\r\n",
        "X_train_brand_name_present=scaler.transform(np.array(X_train['brand_name_present']).reshape(-1,1))\r\n",
        "X_cv_brand_name_present=scaler.transform(np.array(X_cv['brand_name_present']).reshape(-1,1))\r\n",
        "test_data_brand_name_present=scaler.transform(np.array(test_data['brand_name_present']).reshape(-1,1))\r\n",
        "print(X_train_brand_name_present.shape) \r\n",
        "print(X_cv_brand_name_present.shape) \r\n",
        "print(test_data_shipping.shape)"
      ],
      "execution_count": 56,
      "outputs": [
        {
          "output_type": "stream",
          "text": [
            "(1333494, 1)\n",
            "(148167, 1)\n",
            "(3460725, 1)\n"
          ],
          "name": "stdout"
        }
      ]
    },
    {
      "cell_type": "code",
      "metadata": {
        "colab": {
          "base_uri": "https://localhost:8080/"
        },
        "id": "1V1ZGj9mjr2n",
        "outputId": "8d19d97f-dd9d-4be1-d0df-98169cc28502"
      },
      "source": [
        "X_train_numerical_feat = np.concatenate((X_train_len,X_train_stop_count,X_train_item_condition_id,X_train_shipping,X_train_brand_name_present), axis = 1)\r\n",
        "X_cv_numerical_feat= np.concatenate((X_cv_len,X_cv_stop_count,X_cv_item_condition_id,X_cv_shipping,X_cv_brand_name_present), axis = 1)\r\n",
        "\r\n",
        "\r\n",
        "X_test_numerical_feat= np.concatenate((test_data_len,test_data_stop_count,test_data_item_condition_id,test_data_shipping,test_data_brand_name_present), axis = 1)\r\n",
        "print(X_train_numerical_feat.shape,X_cv_numerical_feat.shape,X_test_numerical_feat.shape)"
      ],
      "execution_count": 57,
      "outputs": [
        {
          "output_type": "stream",
          "text": [
            "(1333494, 5) (148167, 5) (3460725, 5)\n"
          ],
          "name": "stdout"
        }
      ]
    },
    {
      "cell_type": "code",
      "metadata": {
        "id": "UXdECX-QRn1i"
      },
      "source": [
        "numerical_input= Input(shape=(5,), name='numerical_input')\r\n",
        "dense_numerical = Dense(16,activation=\"relu\",kernel_initializer=\"he_normal\",kernel_regularizer=regularizers.l2(0.001))(numerical_input)"
      ],
      "execution_count": 58,
      "outputs": []
    },
    {
      "cell_type": "code",
      "metadata": {
        "id": "HVfS4i1ERp6l"
      },
      "source": [
        "concat_layer = concatenate(inputs=[flatten_1,flatten_1_2,flatten_2, flatten_3, flatten_4, flatten_5, dense_numerical], name='concat')\r\n",
        "\r\n",
        "# adding the dense layers and dropout layers as per given diagram\r\n",
        "x = Dense(units=100, activation='relu', kernel_initializer='he_normal',kernel_regularizer=regularizers.l2(0.001), name='layer1')(concat_layer)\r\n",
        "x = Dropout(0.4)(x)\r\n",
        "x=BatchNormalization()(x)\r\n",
        "x = Dense(units=50, activation='relu', kernel_initializer='he_normal',kernel_regularizer=regularizers.l2(0.001), name='layer2')(x)\r\n",
        "x = Dropout(0.3)(x)\r\n",
        "x=BatchNormalization()(x)\r\n",
        "\r\n",
        "x = Dense(units=10, activation='relu', kernel_initializer='he_normal',kernel_regularizer=regularizers.l2(0.001), name='layer3')(x) #0.001\r\n",
        "# output = Dense(units=2, activation='softmax', kernel_initializer='he_normal', name='output')(x)\r\n",
        "output = Dense(1, activation='linear')(x)\r\n",
        "model= Model(inputs=[input_layer_name,input_layer_pre_item_des,input_1,input_2,input_3,input_4,numerical_input], outputs=output)"
      ],
      "execution_count": 59,
      "outputs": []
    },
    {
      "cell_type": "code",
      "metadata": {
        "id": "1-XfY9vpRsTN"
      },
      "source": [
        "# https://www.kaggle.com/marknagelberg/rmsle-function\r\n",
        "import math\r\n",
        "def rmsle(y, y_pred):\r\n",
        "\tassert len(y) == len(y_pred)\r\n",
        "\tterms_to_sum = [(math.log(y_pred[i] + 1) - math.log(y[i] + 1)) ** 2.0 for i,pred in enumerate(y_pred)]\r\n",
        "\treturn (sum(terms_to_sum) * (1.0/len(y))) ** 0.5"
      ],
      "execution_count": 60,
      "outputs": []
    },
    {
      "cell_type": "code",
      "metadata": {
        "colab": {
          "base_uri": "https://localhost:8080/"
        },
        "id": "lESF0-ygRwR9",
        "outputId": "4d0173d1-8d9b-40a8-f578-10c32c077db8"
      },
      "source": [
        "model.summary()"
      ],
      "execution_count": 61,
      "outputs": [
        {
          "output_type": "stream",
          "text": [
            "Model: \"model\"\n",
            "__________________________________________________________________________________________________\n",
            "Layer (type)                    Output Shape         Param #     Connected to                     \n",
            "==================================================================================================\n",
            "input_layer_name (InputLayer)   [(None, 17)]         0                                            \n",
            "__________________________________________________________________________________________________\n",
            "input_layer_item_des_pre (Input [(None, 253)]        0                                            \n",
            "__________________________________________________________________________________________________\n",
            "embedding (Embedding)           (None, 17, 300)      33503100    input_layer_name[0][0]           \n",
            "__________________________________________________________________________________________________\n",
            "embedding_5 (Embedding)         (None, 253, 300)     45608400    input_layer_item_des_pre[0][0]   \n",
            "__________________________________________________________________________________________________\n",
            "conv1d (Conv1D)                 (None, 17, 32)       28832       embedding[0][0]                  \n",
            "__________________________________________________________________________________________________\n",
            "conv1d_1 (Conv1D)               (None, 253, 32)      28832       embedding_5[0][0]                \n",
            "__________________________________________________________________________________________________\n",
            "max_pooling1d (MaxPooling1D)    (None, 9, 32)        0           conv1d[0][0]                     \n",
            "__________________________________________________________________________________________________\n",
            "max_pooling1d_1 (MaxPooling1D)  (None, 127, 32)      0           conv1d_1[0][0]                   \n",
            "__________________________________________________________________________________________________\n",
            "sub_cat1 (InputLayer)           [(None, 1)]          0                                            \n",
            "__________________________________________________________________________________________________\n",
            "sub_cat2 (InputLayer)           [(None, 1)]          0                                            \n",
            "__________________________________________________________________________________________________\n",
            "sub_cat3 (InputLayer)           [(None, 1)]          0                                            \n",
            "__________________________________________________________________________________________________\n",
            "brand_name (InputLayer)         [(None, 1)]          0                                            \n",
            "__________________________________________________________________________________________________\n",
            "lstm (LSTM)                     (None, 128)          82432       max_pooling1d[0][0]              \n",
            "__________________________________________________________________________________________________\n",
            "lstm_1 (LSTM)                   (None, 128)          82432       max_pooling1d_1[0][0]            \n",
            "__________________________________________________________________________________________________\n",
            "embedding_1 (Embedding)         (None, 1, 5)         60          sub_cat1[0][0]                   \n",
            "__________________________________________________________________________________________________\n",
            "embedding_2 (Embedding)         (None, 1, 50)        5750        sub_cat2[0][0]                   \n",
            "__________________________________________________________________________________________________\n",
            "embedding_3 (Embedding)         (None, 1, 50)        43300       sub_cat3[0][0]                   \n",
            "__________________________________________________________________________________________________\n",
            "embedding_4 (Embedding)         (None, 1, 50)        233950      brand_name[0][0]                 \n",
            "__________________________________________________________________________________________________\n",
            "numerical_input (InputLayer)    [(None, 5)]          0                                            \n",
            "__________________________________________________________________________________________________\n",
            "flatten (Flatten)               (None, 128)          0           lstm[0][0]                       \n",
            "__________________________________________________________________________________________________\n",
            "flatten_5 (Flatten)             (None, 128)          0           lstm_1[0][0]                     \n",
            "__________________________________________________________________________________________________\n",
            "flatten_1 (Flatten)             (None, 5)            0           embedding_1[0][0]                \n",
            "__________________________________________________________________________________________________\n",
            "flatten_2 (Flatten)             (None, 50)           0           embedding_2[0][0]                \n",
            "__________________________________________________________________________________________________\n",
            "flatten_3 (Flatten)             (None, 50)           0           embedding_3[0][0]                \n",
            "__________________________________________________________________________________________________\n",
            "flatten_4 (Flatten)             (None, 50)           0           embedding_4[0][0]                \n",
            "__________________________________________________________________________________________________\n",
            "dense (Dense)                   (None, 16)           96          numerical_input[0][0]            \n",
            "__________________________________________________________________________________________________\n",
            "concat (Concatenate)            (None, 427)          0           flatten[0][0]                    \n",
            "                                                                 flatten_5[0][0]                  \n",
            "                                                                 flatten_1[0][0]                  \n",
            "                                                                 flatten_2[0][0]                  \n",
            "                                                                 flatten_3[0][0]                  \n",
            "                                                                 flatten_4[0][0]                  \n",
            "                                                                 dense[0][0]                      \n",
            "__________________________________________________________________________________________________\n",
            "layer1 (Dense)                  (None, 100)          42800       concat[0][0]                     \n",
            "__________________________________________________________________________________________________\n",
            "dropout (Dropout)               (None, 100)          0           layer1[0][0]                     \n",
            "__________________________________________________________________________________________________\n",
            "batch_normalization (BatchNorma (None, 100)          400         dropout[0][0]                    \n",
            "__________________________________________________________________________________________________\n",
            "layer2 (Dense)                  (None, 50)           5050        batch_normalization[0][0]        \n",
            "__________________________________________________________________________________________________\n",
            "dropout_1 (Dropout)             (None, 50)           0           layer2[0][0]                     \n",
            "__________________________________________________________________________________________________\n",
            "batch_normalization_1 (BatchNor (None, 50)           200         dropout_1[0][0]                  \n",
            "__________________________________________________________________________________________________\n",
            "layer3 (Dense)                  (None, 10)           510         batch_normalization_1[0][0]      \n",
            "__________________________________________________________________________________________________\n",
            "dense_1 (Dense)                 (None, 1)            11          layer3[0][0]                     \n",
            "==================================================================================================\n",
            "Total params: 79,666,155\n",
            "Trainable params: 554,355\n",
            "Non-trainable params: 79,111,800\n",
            "__________________________________________________________________________________________________\n"
          ],
          "name": "stdout"
        }
      ]
    },
    {
      "cell_type": "code",
      "metadata": {
        "colab": {
          "base_uri": "https://localhost:8080/",
          "height": 642
        },
        "id": "FKJ7W_PHRyV9",
        "outputId": "8ea335cc-5cfb-475f-d9bd-5745497a4968"
      },
      "source": [
        "tf.keras.utils.plot_model(model=model, to_file='model_1_plot.png', show_shapes=True)"
      ],
      "execution_count": 62,
      "outputs": [
        {
          "output_type": "execute_result",
          "data": {
            "image/png": "[encoded data removed]",
            "text/plain": [
              "<IPython.core.display.Image object>"
            ]
          },
          "metadata": {
            "tags": []
          },
          "execution_count": 62
        }
      ]
    },
    {
      "cell_type": "code",
      "metadata": {
        "id": "gtAyB6PzR0at"
      },
      "source": [
        "train_full=[padded_docs_X_train_name,padded_docs_X_train_pre_item_des,X_train_sub_cat1,X_train_sub_cat2,X_train_sub_cat3,X_train_brand_name,X_train_numerical_feat]\r\n",
        "            \r\n",
        "cv_full=[padded_docs_X_cv_name,padded_docs_X_cv_pre_item_des,X_cv_sub_cat1,X_cv_sub_cat2,X_cv_sub_cat3,X_cv_brand_name,X_cv_numerical_feat]\r\n",
        "\r\n",
        "test_full=[padded_docs_X_test_name,padded_docs_X_test_pre_item_des,X_test_sub_cat1, X_test_sub_cat2,X_test_sub_cat3,X_test_brand_name,X_test_numerical_feat]\r\n"
      ],
      "execution_count": 63,
      "outputs": []
    },
    {
      "cell_type": "code",
      "metadata": {
        "colab": {
          "base_uri": "https://localhost:8080/"
        },
        "id": "qkzQBud5AXV8",
        "outputId": "c22be0b1-585f-42d8-a815-da08c7d0fa23"
      },
      "source": [
        "len(train_full[0])"
      ],
      "execution_count": 64,
      "outputs": [
        {
          "output_type": "execute_result",
          "data": {
            "text/plain": [
              "1333494"
            ]
          },
          "metadata": {
            "tags": []
          },
          "execution_count": 64
        }
      ]
    },
    {
      "cell_type": "code",
      "metadata": {
        "id": "eKX-SsG2YYoD"
      },
      "source": [
        "model.compile(loss='mean_squared_error', optimizer=tf.keras.optimizers.Adam(),metrics=[tf.keras.metrics.RootMeanSquaredError()])\r\n",
        "\r\n",
        "\r\n",
        "\r\n",
        "checkpoint1 = ModelCheckpoint(filepath='pavan', monitor='val_loss',verbose=1, save_best_only=True, mode='min')\r\n",
        "earlystop1 = EarlyStopping(monitor = 'val_loss',  \r\n",
        "                            patience = 4,\r\n",
        "                            verbose = 1)\r\n",
        "\r\n",
        "\r\n",
        "callbacks_1 = [checkpoint1,earlystop1]\r\n"
      ],
      "execution_count": 65,
      "outputs": []
    },
    {
      "cell_type": "code",
      "metadata": {
        "id": "W9nNUxDqFKqq"
      },
      "source": [
        "tf.logging.set_verbosity(tf.logging.ERROR)"
      ],
      "execution_count": null,
      "outputs": []
    },
    {
      "cell_type": "code",
      "metadata": {
        "colab": {
          "base_uri": "https://localhost:8080/"
        },
        "id": "jO0Tq-HKYYvG",
        "outputId": "ab64b469-e2ae-406b-9b8d-31921c44a3be"
      },
      "source": [
        "model.fit(train_full,y_train,batch_size=2048,\r\n",
        "                        epochs=200,validation_data=(cv_full,y_cv),callbacks=callbacks_1)"
      ],
      "execution_count": 66,
      "outputs": [
        {
          "output_type": "stream",
          "text": [
            "Epoch 1/200\n",
            "652/652 [==============================] - 154s 218ms/step - loss: 1.2282 - root_mean_squared_error: 0.9479 - val_loss: 0.3924 - val_root_mean_squared_error: 0.5292\n",
            "\n",
            "Epoch 00001: val_loss improved from inf to 0.39240, saving model to pavan\n"
          ],
          "name": "stdout"
        },
        {
          "output_type": "stream",
          "text": [
            "WARNING:absl:Found untraced functions such as lstm_cell_layer_call_fn, lstm_cell_layer_call_and_return_conditional_losses, lstm_cell_1_layer_call_fn, lstm_cell_1_layer_call_and_return_conditional_losses, lstm_cell_layer_call_fn while saving (showing 5 of 10). These functions will not be directly callable after loading.\n",
            "WARNING:absl:Found untraced functions such as lstm_cell_layer_call_fn, lstm_cell_layer_call_and_return_conditional_losses, lstm_cell_1_layer_call_fn, lstm_cell_1_layer_call_and_return_conditional_losses, lstm_cell_layer_call_fn while saving (showing 5 of 10). These functions will not be directly callable after loading.\n"
          ],
          "name": "stderr"
        },
        {
          "output_type": "stream",
          "text": [
            "INFO:tensorflow:Assets written to: pavan/assets\n"
          ],
          "name": "stdout"
        },
        {
          "output_type": "stream",
          "text": [
            "INFO:tensorflow:Assets written to: pavan/assets\n"
          ],
          "name": "stderr"
        },
        {
          "output_type": "stream",
          "text": [
            "Epoch 2/200\n",
            "652/652 [==============================] - 139s 214ms/step - loss: 0.3824 - root_mean_squared_error: 0.5352 - val_loss: 0.3183 - val_root_mean_squared_error: 0.5104\n",
            "\n",
            "Epoch 00002: val_loss improved from 0.39240 to 0.31832, saving model to pavan\n"
          ],
          "name": "stdout"
        },
        {
          "output_type": "stream",
          "text": [
            "WARNING:absl:Found untraced functions such as lstm_cell_layer_call_fn, lstm_cell_layer_call_and_return_conditional_losses, lstm_cell_1_layer_call_fn, lstm_cell_1_layer_call_and_return_conditional_losses, lstm_cell_layer_call_fn while saving (showing 5 of 10). These functions will not be directly callable after loading.\n",
            "WARNING:absl:Found untraced functions such as lstm_cell_layer_call_fn, lstm_cell_layer_call_and_return_conditional_losses, lstm_cell_1_layer_call_fn, lstm_cell_1_layer_call_and_return_conditional_losses, lstm_cell_layer_call_fn while saving (showing 5 of 10). These functions will not be directly callable after loading.\n"
          ],
          "name": "stderr"
        },
        {
          "output_type": "stream",
          "text": [
            "INFO:tensorflow:Assets written to: pavan/assets\n"
          ],
          "name": "stdout"
        },
        {
          "output_type": "stream",
          "text": [
            "INFO:tensorflow:Assets written to: pavan/assets\n"
          ],
          "name": "stderr"
        },
        {
          "output_type": "stream",
          "text": [
            "Epoch 3/200\n",
            "652/652 [==============================] - 139s 213ms/step - loss: 0.3091 - root_mean_squared_error: 0.5091 - val_loss: 0.2844 - val_root_mean_squared_error: 0.5019\n",
            "\n",
            "Epoch 00003: val_loss improved from 0.31832 to 0.28438, saving model to pavan\n"
          ],
          "name": "stdout"
        },
        {
          "output_type": "stream",
          "text": [
            "WARNING:absl:Found untraced functions such as lstm_cell_layer_call_fn, lstm_cell_layer_call_and_return_conditional_losses, lstm_cell_1_layer_call_fn, lstm_cell_1_layer_call_and_return_conditional_losses, lstm_cell_layer_call_fn while saving (showing 5 of 10). These functions will not be directly callable after loading.\n",
            "WARNING:absl:Found untraced functions such as lstm_cell_layer_call_fn, lstm_cell_layer_call_and_return_conditional_losses, lstm_cell_1_layer_call_fn, lstm_cell_1_layer_call_and_return_conditional_losses, lstm_cell_layer_call_fn while saving (showing 5 of 10). These functions will not be directly callable after loading.\n"
          ],
          "name": "stderr"
        },
        {
          "output_type": "stream",
          "text": [
            "INFO:tensorflow:Assets written to: pavan/assets\n"
          ],
          "name": "stdout"
        },
        {
          "output_type": "stream",
          "text": [
            "INFO:tensorflow:Assets written to: pavan/assets\n"
          ],
          "name": "stderr"
        },
        {
          "output_type": "stream",
          "text": [
            "Epoch 4/200\n",
            "652/652 [==============================] - 140s 214ms/step - loss: 0.2787 - root_mean_squared_error: 0.4995 - val_loss: 0.2598 - val_root_mean_squared_error: 0.4881\n",
            "\n",
            "Epoch 00004: val_loss improved from 0.28438 to 0.25983, saving model to pavan\n"
          ],
          "name": "stdout"
        },
        {
          "output_type": "stream",
          "text": [
            "WARNING:absl:Found untraced functions such as lstm_cell_layer_call_fn, lstm_cell_layer_call_and_return_conditional_losses, lstm_cell_1_layer_call_fn, lstm_cell_1_layer_call_and_return_conditional_losses, lstm_cell_layer_call_fn while saving (showing 5 of 10). These functions will not be directly callable after loading.\n",
            "WARNING:absl:Found untraced functions such as lstm_cell_layer_call_fn, lstm_cell_layer_call_and_return_conditional_losses, lstm_cell_1_layer_call_fn, lstm_cell_1_layer_call_and_return_conditional_losses, lstm_cell_layer_call_fn while saving (showing 5 of 10). These functions will not be directly callable after loading.\n"
          ],
          "name": "stderr"
        },
        {
          "output_type": "stream",
          "text": [
            "INFO:tensorflow:Assets written to: pavan/assets\n"
          ],
          "name": "stdout"
        },
        {
          "output_type": "stream",
          "text": [
            "INFO:tensorflow:Assets written to: pavan/assets\n"
          ],
          "name": "stderr"
        },
        {
          "output_type": "stream",
          "text": [
            "Epoch 5/200\n",
            "652/652 [==============================] - 140s 215ms/step - loss: 0.2627 - root_mean_squared_error: 0.4925 - val_loss: 0.2482 - val_root_mean_squared_error: 0.4812\n",
            "\n",
            "Epoch 00005: val_loss improved from 0.25983 to 0.24816, saving model to pavan\n"
          ],
          "name": "stdout"
        },
        {
          "output_type": "stream",
          "text": [
            "WARNING:absl:Found untraced functions such as lstm_cell_layer_call_fn, lstm_cell_layer_call_and_return_conditional_losses, lstm_cell_1_layer_call_fn, lstm_cell_1_layer_call_and_return_conditional_losses, lstm_cell_layer_call_fn while saving (showing 5 of 10). These functions will not be directly callable after loading.\n",
            "WARNING:absl:Found untraced functions such as lstm_cell_layer_call_fn, lstm_cell_layer_call_and_return_conditional_losses, lstm_cell_1_layer_call_fn, lstm_cell_1_layer_call_and_return_conditional_losses, lstm_cell_layer_call_fn while saving (showing 5 of 10). These functions will not be directly callable after loading.\n"
          ],
          "name": "stderr"
        },
        {
          "output_type": "stream",
          "text": [
            "INFO:tensorflow:Assets written to: pavan/assets\n"
          ],
          "name": "stdout"
        },
        {
          "output_type": "stream",
          "text": [
            "INFO:tensorflow:Assets written to: pavan/assets\n"
          ],
          "name": "stderr"
        },
        {
          "output_type": "stream",
          "text": [
            "Epoch 6/200\n",
            "652/652 [==============================] - 139s 214ms/step - loss: 0.2558 - root_mean_squared_error: 0.4897 - val_loss: 0.2520 - val_root_mean_squared_error: 0.4876\n",
            "\n",
            "Epoch 00006: val_loss did not improve from 0.24816\n",
            "Epoch 7/200\n",
            "652/652 [==============================] - 139s 213ms/step - loss: 0.2477 - root_mean_squared_error: 0.4835 - val_loss: 0.2432 - val_root_mean_squared_error: 0.4801\n",
            "\n",
            "Epoch 00007: val_loss improved from 0.24816 to 0.24325, saving model to pavan\n"
          ],
          "name": "stdout"
        },
        {
          "output_type": "stream",
          "text": [
            "WARNING:absl:Found untraced functions such as lstm_cell_layer_call_fn, lstm_cell_layer_call_and_return_conditional_losses, lstm_cell_1_layer_call_fn, lstm_cell_1_layer_call_and_return_conditional_losses, lstm_cell_layer_call_fn while saving (showing 5 of 10). These functions will not be directly callable after loading.\n",
            "WARNING:absl:Found untraced functions such as lstm_cell_layer_call_fn, lstm_cell_layer_call_and_return_conditional_losses, lstm_cell_1_layer_call_fn, lstm_cell_1_layer_call_and_return_conditional_losses, lstm_cell_layer_call_fn while saving (showing 5 of 10). These functions will not be directly callable after loading.\n"
          ],
          "name": "stderr"
        },
        {
          "output_type": "stream",
          "text": [
            "INFO:tensorflow:Assets written to: pavan/assets\n"
          ],
          "name": "stdout"
        },
        {
          "output_type": "stream",
          "text": [
            "INFO:tensorflow:Assets written to: pavan/assets\n"
          ],
          "name": "stderr"
        },
        {
          "output_type": "stream",
          "text": [
            "Epoch 8/200\n",
            "652/652 [==============================] - 138s 211ms/step - loss: 0.2441 - root_mean_squared_error: 0.4812 - val_loss: 0.2365 - val_root_mean_squared_error: 0.4742\n",
            "\n",
            "Epoch 00008: val_loss improved from 0.24325 to 0.23650, saving model to pavan\n"
          ],
          "name": "stdout"
        },
        {
          "output_type": "stream",
          "text": [
            "WARNING:absl:Found untraced functions such as lstm_cell_layer_call_fn, lstm_cell_layer_call_and_return_conditional_losses, lstm_cell_1_layer_call_fn, lstm_cell_1_layer_call_and_return_conditional_losses, lstm_cell_layer_call_fn while saving (showing 5 of 10). These functions will not be directly callable after loading.\n",
            "WARNING:absl:Found untraced functions such as lstm_cell_layer_call_fn, lstm_cell_layer_call_and_return_conditional_losses, lstm_cell_1_layer_call_fn, lstm_cell_1_layer_call_and_return_conditional_losses, lstm_cell_layer_call_fn while saving (showing 5 of 10). These functions will not be directly callable after loading.\n"
          ],
          "name": "stderr"
        },
        {
          "output_type": "stream",
          "text": [
            "INFO:tensorflow:Assets written to: pavan/assets\n"
          ],
          "name": "stdout"
        },
        {
          "output_type": "stream",
          "text": [
            "INFO:tensorflow:Assets written to: pavan/assets\n"
          ],
          "name": "stderr"
        },
        {
          "output_type": "stream",
          "text": [
            "Epoch 9/200\n",
            "652/652 [==============================] - 137s 210ms/step - loss: 0.2388 - root_mean_squared_error: 0.4768 - val_loss: 0.2379 - val_root_mean_squared_error: 0.4766\n",
            "\n",
            "Epoch 00009: val_loss did not improve from 0.23650\n",
            "Epoch 10/200\n",
            "652/652 [==============================] - 137s 210ms/step - loss: 0.2367 - root_mean_squared_error: 0.4754 - val_loss: 0.2352 - val_root_mean_squared_error: 0.4744\n",
            "\n",
            "Epoch 00010: val_loss improved from 0.23650 to 0.23524, saving model to pavan\n"
          ],
          "name": "stdout"
        },
        {
          "output_type": "stream",
          "text": [
            "WARNING:absl:Found untraced functions such as lstm_cell_layer_call_fn, lstm_cell_layer_call_and_return_conditional_losses, lstm_cell_1_layer_call_fn, lstm_cell_1_layer_call_and_return_conditional_losses, lstm_cell_layer_call_fn while saving (showing 5 of 10). These functions will not be directly callable after loading.\n",
            "WARNING:absl:Found untraced functions such as lstm_cell_layer_call_fn, lstm_cell_layer_call_and_return_conditional_losses, lstm_cell_1_layer_call_fn, lstm_cell_1_layer_call_and_return_conditional_losses, lstm_cell_layer_call_fn while saving (showing 5 of 10). These functions will not be directly callable after loading.\n"
          ],
          "name": "stderr"
        },
        {
          "output_type": "stream",
          "text": [
            "INFO:tensorflow:Assets written to: pavan/assets\n"
          ],
          "name": "stdout"
        },
        {
          "output_type": "stream",
          "text": [
            "INFO:tensorflow:Assets written to: pavan/assets\n"
          ],
          "name": "stderr"
        },
        {
          "output_type": "stream",
          "text": [
            "Epoch 11/200\n",
            "652/652 [==============================] - 137s 210ms/step - loss: 0.2342 - root_mean_squared_error: 0.4734 - val_loss: 0.2402 - val_root_mean_squared_error: 0.4803\n",
            "\n",
            "Epoch 00011: val_loss did not improve from 0.23524\n",
            "Epoch 12/200\n",
            "652/652 [==============================] - 137s 210ms/step - loss: 0.2313 - root_mean_squared_error: 0.4710 - val_loss: 0.2344 - val_root_mean_squared_error: 0.4746\n",
            "\n",
            "Epoch 00012: val_loss improved from 0.23524 to 0.23440, saving model to pavan\n"
          ],
          "name": "stdout"
        },
        {
          "output_type": "stream",
          "text": [
            "WARNING:absl:Found untraced functions such as lstm_cell_layer_call_fn, lstm_cell_layer_call_and_return_conditional_losses, lstm_cell_1_layer_call_fn, lstm_cell_1_layer_call_and_return_conditional_losses, lstm_cell_layer_call_fn while saving (showing 5 of 10). These functions will not be directly callable after loading.\n",
            "WARNING:absl:Found untraced functions such as lstm_cell_layer_call_fn, lstm_cell_layer_call_and_return_conditional_losses, lstm_cell_1_layer_call_fn, lstm_cell_1_layer_call_and_return_conditional_losses, lstm_cell_layer_call_fn while saving (showing 5 of 10). These functions will not be directly callable after loading.\n"
          ],
          "name": "stderr"
        },
        {
          "output_type": "stream",
          "text": [
            "INFO:tensorflow:Assets written to: pavan/assets\n"
          ],
          "name": "stdout"
        },
        {
          "output_type": "stream",
          "text": [
            "INFO:tensorflow:Assets written to: pavan/assets\n"
          ],
          "name": "stderr"
        },
        {
          "output_type": "stream",
          "text": [
            "Epoch 13/200\n",
            "652/652 [==============================] - 137s 210ms/step - loss: 0.2304 - root_mean_squared_error: 0.4703 - val_loss: 0.2363 - val_root_mean_squared_error: 0.4770\n",
            "\n",
            "Epoch 00013: val_loss did not improve from 0.23440\n",
            "Epoch 14/200\n",
            "652/652 [==============================] - 139s 213ms/step - loss: 0.2295 - root_mean_squared_error: 0.4697 - val_loss: 0.2318 - val_root_mean_squared_error: 0.4725\n",
            "\n",
            "Epoch 00014: val_loss improved from 0.23440 to 0.23183, saving model to pavan\n"
          ],
          "name": "stdout"
        },
        {
          "output_type": "stream",
          "text": [
            "WARNING:absl:Found untraced functions such as lstm_cell_layer_call_fn, lstm_cell_layer_call_and_return_conditional_losses, lstm_cell_1_layer_call_fn, lstm_cell_1_layer_call_and_return_conditional_losses, lstm_cell_layer_call_fn while saving (showing 5 of 10). These functions will not be directly callable after loading.\n",
            "WARNING:absl:Found untraced functions such as lstm_cell_layer_call_fn, lstm_cell_layer_call_and_return_conditional_losses, lstm_cell_1_layer_call_fn, lstm_cell_1_layer_call_and_return_conditional_losses, lstm_cell_layer_call_fn while saving (showing 5 of 10). These functions will not be directly callable after loading.\n"
          ],
          "name": "stderr"
        },
        {
          "output_type": "stream",
          "text": [
            "INFO:tensorflow:Assets written to: pavan/assets\n"
          ],
          "name": "stdout"
        },
        {
          "output_type": "stream",
          "text": [
            "INFO:tensorflow:Assets written to: pavan/assets\n"
          ],
          "name": "stderr"
        },
        {
          "output_type": "stream",
          "text": [
            "Epoch 15/200\n",
            "652/652 [==============================] - 140s 214ms/step - loss: 0.2275 - root_mean_squared_error: 0.4680 - val_loss: 0.2335 - val_root_mean_squared_error: 0.4744\n",
            "\n",
            "Epoch 00015: val_loss did not improve from 0.23183\n",
            "Epoch 16/200\n",
            "652/652 [==============================] - 138s 212ms/step - loss: 0.2251 - root_mean_squared_error: 0.4655 - val_loss: 0.2410 - val_root_mean_squared_error: 0.4827\n",
            "\n",
            "Epoch 00016: val_loss did not improve from 0.23183\n",
            "Epoch 17/200\n",
            "652/652 [==============================] - 139s 213ms/step - loss: 0.2246 - root_mean_squared_error: 0.4654 - val_loss: 0.2365 - val_root_mean_squared_error: 0.4781\n",
            "\n",
            "Epoch 00017: val_loss did not improve from 0.23183\n",
            "Epoch 18/200\n",
            "652/652 [==============================] - 139s 213ms/step - loss: 0.2242 - root_mean_squared_error: 0.4651 - val_loss: 0.2349 - val_root_mean_squared_error: 0.4767\n",
            "\n",
            "Epoch 00018: val_loss did not improve from 0.23183\n",
            "Epoch 00018: early stopping\n"
          ],
          "name": "stdout"
        },
        {
          "output_type": "execute_result",
          "data": {
            "text/plain": [
              "<tensorflow.python.keras.callbacks.History at 0x7fd802b6a4a8>"
            ]
          },
          "metadata": {
            "tags": []
          },
          "execution_count": 66
        }
      ]
    },
    {
      "cell_type": "code",
      "metadata": {
        "id": "umkzYDGoa7rK"
      },
      "source": [
        "model_best = tf.keras.models.load_model('pavan')"
      ],
      "execution_count": 67,
      "outputs": []
    },
    {
      "cell_type": "code",
      "metadata": {
        "id": "YROSypieoRy1"
      },
      "source": [
        "y_test_pred=np.expm1(model_best.predict(test_full))"
      ],
      "execution_count": 68,
      "outputs": []
    },
    {
      "cell_type": "code",
      "metadata": {
        "colab": {
          "base_uri": "https://localhost:8080/"
        },
        "id": "EdTAngWOn8XB",
        "outputId": "1f0b8a20-cbe1-4904-c51f-a4805c1b8b18"
      },
      "source": [
        "y_test_pred"
      ],
      "execution_count": 69,
      "outputs": [
        {
          "output_type": "execute_result",
          "data": {
            "text/plain": [
              "array([[ 6.8585706],\n",
              "       [10.653565 ],\n",
              "       [50.568665 ],\n",
              "       ...,\n",
              "       [19.945219 ],\n",
              "       [20.009623 ],\n",
              "       [19.080456 ]], dtype=float32)"
            ]
          },
          "metadata": {
            "tags": []
          },
          "execution_count": 69
        }
      ]
    },
    {
      "cell_type": "code",
      "metadata": {
        "colab": {
          "base_uri": "https://localhost:8080/"
        },
        "id": "Am4ldKM9oigu",
        "outputId": "b0245044-a628-4384-8721-40e0da734fa2"
      },
      "source": [
        "y_test_pred.mean()"
      ],
      "execution_count": 70,
      "outputs": [
        {
          "output_type": "execute_result",
          "data": {
            "text/plain": [
              "22.490904"
            ]
          },
          "metadata": {
            "tags": []
          },
          "execution_count": 70
        }
      ]
    },
    {
      "cell_type": "code",
      "metadata": {
        "id": "u9WCMwFssX30"
      },
      "source": [
        "y_test_pred=y_test_pred.flatten()"
      ],
      "execution_count": 71,
      "outputs": []
    },
    {
      "cell_type": "code",
      "metadata": {
        "colab": {
          "base_uri": "https://localhost:8080/"
        },
        "id": "D-TAD-odsnCC",
        "outputId": "5fd2344e-efb6-442b-a05e-6bf0344cf736"
      },
      "source": [
        "y_test_pred"
      ],
      "execution_count": 72,
      "outputs": [
        {
          "output_type": "execute_result",
          "data": {
            "text/plain": [
              "array([ 6.8585706, 10.653565 , 50.568665 , ..., 19.945219 , 20.009623 ,\n",
              "       19.080456 ], dtype=float32)"
            ]
          },
          "metadata": {
            "tags": []
          },
          "execution_count": 72
        }
      ]
    },
    {
      "cell_type": "code",
      "metadata": {
        "id": "AYuk5qYEokVK"
      },
      "source": [
        "submission = pd.DataFrame({'test_id': test_data.test_id, 'price':y_test_pred})"
      ],
      "execution_count": 73,
      "outputs": []
    },
    {
      "cell_type": "code",
      "metadata": {
        "id": "9cROJibboowc"
      },
      "source": [
        "submission.to_csv('/content/drive/MyDrive/pavn/submission.csv', index=False)"
      ],
      "execution_count": 74,
      "outputs": []
    },
    {
      "cell_type": "code",
      "metadata": {
        "id": "jWnXFgP8tJrp"
      },
      "source": [
        ""
      ],
      "execution_count": null,
      "outputs": []
    }
  ]
}